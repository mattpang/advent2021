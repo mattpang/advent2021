{
 "cells": [
  {
   "cell_type": "code",
   "execution_count": 1,
   "id": "85b750bc",
   "metadata": {},
   "outputs": [],
   "source": [
    "explode_test= {'[[[[[9,8],1],2],3],4]':'[[[[0,9],2],3],4]',\n",
    "               '[7,[6,[5,[4,[3,2]]]]]':'[7,[6,[5,[7,0]]]]',\n",
    "               '[[6,[5,[4,[3,2]]]],1]':'[[6,[5,[7,0]]],3]',\n",
    "              '[[3,[2,[1,[7,3]]]],[6,[5,[4,[3,2]]]]]':'[[3,[2,[8,0]]],[9,[5,[4,[3,2]]]]]',\n",
    "              '[[3,[2,[8,0]]],[9,[5,[4,[3,2]]]]]':'[[3,[2,[8,0]]],[9,[5,[7,0]]]]'}"
   ]
  },
  {
   "cell_type": "markdown",
   "id": "4713b30a",
   "metadata": {},
   "source": [
    "To reduce a snailfish number, you must repeatedly do the first action in this list that applies to the snailfish number:\n",
    "\n",
    "If any pair is nested inside four pairs, the leftmost such pair explodes.\n",
    "If any regular number is 10 or greater, the leftmost such regular number splits.\n",
    "\n",
    "To explode a pair, the pair's left value is added to the first regular number to the left of the exploding pair (if any), and the pair's right value is added to the first regular number to the right of the exploding pair (if any). Exploding pairs will always consist of two regular numbers. Then, the entire exploding pair is replaced with the regular number 0.\n",
    "\n"
   ]
  },
  {
   "cell_type": "code",
   "execution_count": 20,
   "id": "39a198e3",
   "metadata": {},
   "outputs": [
    {
     "data": {
      "text/plain": [
       "'[[[[[0,[8, 8]],9],2],3],4]'"
      ]
     },
     "execution_count": 20,
     "metadata": {},
     "output_type": "execute_result"
    }
   ],
   "source": [
    "# detect when a pair is nested inside 4 pairs. \n",
    "import math\n",
    "def explode(t):\n",
    "    lb=0\n",
    "    ln=None\n",
    "    newstr = ''\n",
    "    rightside=False\n",
    "    for c in t:\n",
    "        #print(ln)\n",
    "        replacement=None\n",
    "        if c=='[':\n",
    "            lb+=1\n",
    "        elif c==']':\n",
    "            lb-=1\n",
    "\n",
    "\n",
    "        if (lb>=4) and (c.isdigit()):\n",
    "            if ln==None:\n",
    "                thisdigit=0\n",
    "            else:\n",
    "                #print(ln,c)\n",
    "                thisdigit=ln+int(c)\n",
    "\n",
    "            if thisdigit >= 10:\n",
    "                replacement = str([round(thisdigit/2),math.floor(thisdigit/2)])\n",
    "            else:\n",
    "                replacement = str(thisdigit)\n",
    "                \n",
    "        if c ==',':\n",
    "            rightside=True\n",
    "\n",
    "        if c.isdigit():\n",
    "            ln=int(c)\n",
    "\n",
    "        if replacement:\n",
    "            newstr+=replacement\n",
    "        else:\n",
    "            newstr+=c\n",
    "            \n",
    "    return newstr\n",
    "        \n",
    "explode(t = '[[[[[9,8],1],2],3],4]')\n",
    "\n",
    "#'[[[[0,9],2],3],4]'"
   ]
  },
  {
   "cell_type": "code",
   "execution_count": 336,
   "id": "5f5f2c19",
   "metadata": {},
   "outputs": [
    {
     "data": {
      "text/plain": [
       "'4'"
      ]
     },
     "execution_count": 336,
     "metadata": {},
     "output_type": "execute_result"
    }
   ],
   "source": [
    "def lastdigit_pos(c='[[[[[0,[8, 8]],9],2],3],4]'):\n",
    "    lastpos = 0\n",
    "    for p,x in enumerate(c):\n",
    "        if x.isdigit():\n",
    "            lastpos=p\n",
    "    return lastpos\n"
   ]
  },
  {
   "cell_type": "code",
   "execution_count": 357,
   "id": "6f5994b9",
   "metadata": {},
   "outputs": [
    {
     "name": "stdout",
     "output_type": "stream",
     "text": [
      "11 11 [0, 1, 0, 1]\n",
      "8 8 [0, 1, 1, 1, 0]\n"
     ]
    }
   ],
   "source": [
    "def deep_get(lst, *indices):\n",
    "    for i in indices:\n",
    "        lst = lst[i]\n",
    "    return lst\n",
    "\n",
    "def count_pos(m='[[3,[2,[1,[7,3]]]],[6,[5,[4,[3,2]]]]]',pair='[7,3]'):\n",
    "    #return the lhs and rhs positions of first numbers found\n",
    "    ev=eval(m)\n",
    "    \n",
    "    pos = m.index(pair)\n",
    "    #left first\n",
    "    comma=0\n",
    "    val=None\n",
    "    #print(m[:pos])\n",
    "    store = None\n",
    "    maxindex = []\n",
    "    nm = lastdigit_pos(m[:pos])\n",
    "    prevchar= None\n",
    "    for c in m[:nm+1]:\n",
    "        if c=='[':\n",
    "            maxindex.append(comma)\n",
    "            comma=0\n",
    "        if c==']':\n",
    "            comma-=1\n",
    "            if comma<0:\n",
    "                comma=0\n",
    "            maxindex.pop(-1)\n",
    "            \n",
    "        if c==',':\n",
    "            comma+=1\n",
    "        #print(c,maxindex,comma)\n",
    "        if c.isdigit():\n",
    "            val = int(c)\n",
    "            if prevchar.isdigit():\n",
    "                val=int(prevchar+c)\n",
    "        prevchar=c\n",
    "    try:  \n",
    "        if c==',':\n",
    "            comma-=1\n",
    "    except:\n",
    "        pass\n",
    "    #print(store)\n",
    "    maxindex.append(comma)\n",
    "    maxindex.pop(0)\n",
    "    results=dict()\n",
    "    if val == None:\n",
    "        maxindex= None\n",
    "    else:\n",
    "        if val == deep_get(ev,*maxindex):\n",
    "            pass\n",
    "        else:\n",
    "            try:\n",
    "                maxindex.append(deep_get(ev,*maxindex).index(val))\n",
    "            except:\n",
    "                print(m,pair)\n",
    "                pass\n",
    "            \n",
    "    results['lhs'] =[val,maxindex]\n",
    "    \n",
    "    #want the first number after pos+len(pair)\n",
    "    comma=0\n",
    "    val=None\n",
    "    #print(m)\n",
    "    store = None\n",
    "    maxindex = []\n",
    "    for d,c in enumerate(m):\n",
    "        if c=='[':\n",
    "            maxindex.append(comma)\n",
    "            comma=0\n",
    "        if c==']':\n",
    "            comma-=1\n",
    "            if comma<0:\n",
    "                comma=0\n",
    "            maxindex.pop(-1)\n",
    "        \n",
    "        if c==',':\n",
    "            comma+=1\n",
    "        #print(c,maxindex,comma)\n",
    "        if c.isdigit() and (d>pos+len(pair)):\n",
    "            val = int(c)\n",
    "            break\n",
    "        \n",
    "           \n",
    "    #print(store)\n",
    "    maxindex.append(comma)\n",
    "    maxindex.pop(0)\n",
    "    if val == None:\n",
    "        maxindex= None\n",
    "    results['rhs'] =[val,maxindex]\n",
    "    return results\n",
    "    \n",
    "#count_pos(m='[[3,[2,[1,[7,3]]]],[6,[5,[4,[3,2]]]]]',pair='[7,3]')\n",
    "#eval('[[3,[2,[1,[7,3]]]],[6,[5,[4,[3,2]]]]]')[1][1][1][0]\n",
    "#count_pos('[[3,[2,[1,[7,3]]]],[6,[5,[4,[3,2]]]]]','[3,2]')\n",
    "#count_pos('[[[[0,7],4],[[7,8],[0,[6,7]]]],[1,1]]','[6,7]')\n",
    "#count_pos('[[[[4,0],[5,0]],[[[4,5],[2,6]],[9,5]]],[7,[[[3,7],[4,3]],[[6,3],[8,8]]]]]','[4,5]')\n",
    "#test_count('[[[[0,0],[9,0]],[[2,0],[15,5]]],[7,[[[3,7],[4,3]],[[6,3],[8,8]]]]]', '[3,7]')\n",
    "test_count('[[[[5,2],[6,6]],[[0,11],[[4,6],[8,0]]]],[[2,[[0,8],[3,4]]],[[[6,7],1],[7,[1,6]]]]]','[4,6]')\n"
   ]
  },
  {
   "cell_type": "code",
   "execution_count": 353,
   "id": "24284d22",
   "metadata": {},
   "outputs": [
    {
     "data": {
      "text/plain": [
       "'7'"
      ]
     },
     "execution_count": 353,
     "metadata": {},
     "output_type": "execute_result"
    }
   ],
   "source": [
    "dd='[[[[0,0],[9,0]],[[2,0],[15,5]]],[7,[['\n",
    "dd[lastdigit_pos(dd)]"
   ]
  },
  {
   "cell_type": "code",
   "execution_count": 342,
   "id": "ba5a81b6",
   "metadata": {},
   "outputs": [
    {
     "name": "stdout",
     "output_type": "stream",
     "text": [
      "[[3,[2,[1,[7,3]]]],[6,[5,[4,[3,2]]]]] [7,3]\n"
     ]
    },
    {
     "data": {
      "text/plain": [
       "'[[3,[2,[9,0]]],[9,[5,[4,[3,2]]]]]'"
      ]
     },
     "execution_count": 342,
     "metadata": {},
     "output_type": "execute_result"
    }
   ],
   "source": [
    "import copy\n",
    "\n",
    "\n",
    "def explode(t):\n",
    "    t=eval(t)\n",
    "    replaced = copy.deepcopy(t)\n",
    "    lhs=None\n",
    "    rhs=None\n",
    "    rhs_pos=None\n",
    "    exploded=False\n",
    "    for pos1, toppairs in enumerate(t):\n",
    "        if exploded:\n",
    "            break\n",
    "        if type(toppairs)==int:\n",
    "            lhs=toppairs\n",
    "            lhs_pos=[pos1]\n",
    "            \n",
    "        if pos1+1 < len(t):\n",
    "            if type(t[pos1+1]) == int:\n",
    "                rhs = t[pos1+1]\n",
    "                rhs_pos = [pos1+1]\n",
    "            \n",
    "            \n",
    "        try:\n",
    "            for pos2,secondtoppairs in enumerate(toppairs):\n",
    "                if exploded:\n",
    "                    break\n",
    "                if type(secondtoppairs)==int:\n",
    "                    lhs=secondtoppairs\n",
    "                    lhs_pos=[pos1,pos2]\n",
    "                    \n",
    "                if pos2+1 < len(toppairs):\n",
    "                    if type(toppairs[pos2+1]) == int:\n",
    "                        rhs = toppairs[pos2+1]\n",
    "                        rhs_pos = [pos1,pos2+1]\n",
    "                    \n",
    "                try:\n",
    "                    for pos3,thirdtoppairs in enumerate(secondtoppairs):\n",
    "                        if exploded:\n",
    "                            break\n",
    "                            \n",
    "                        if type(thirdtoppairs)==int:\n",
    "                            lhs=thirdtoppairs\n",
    "                            lhs_pos=[pos1,pos2,pos3]\n",
    "                            \n",
    "                        if pos3+1 < len(secondtoppairs):\n",
    "                            if type(secondtoppairs[pos3+1]) == int:\n",
    "                                rhs = secondtoppairs[pos3+1]\n",
    "                                rhs_pos = [pos1,pos2,pos3+1]\n",
    "                        try:\n",
    "                            for pos4,fourthpairs in enumerate(thirdtoppairs):\n",
    "                                if exploded:\n",
    "                                    break\n",
    "                                if type(fourthpairs)==int:\n",
    "                                    lhs=fourthpairs\n",
    "                                    lhs_pos=[pos1,pos2,pos3,pos4]\n",
    "\n",
    "                                if pos4+1 < len(thirdtoppairs):\n",
    "                                    if type(thirdtoppairs[pos4+1]) == int:\n",
    "                                        rhs = thirdtoppairs[pos4+1]\n",
    "                                        rhs_pos = [pos1,pos2,pos3,pos4+1]\n",
    "\n",
    "                                try:\n",
    "                                    #print(lhs,fourthpairs,rhs)\n",
    "                                    newpair=[0,0]\n",
    "                                    \n",
    "#                                     #look for rhs\n",
    "                                        \n",
    "#                                         if (thirdtoppairs[pos4+1]) == int:\n",
    "#                                             rhs=thirdtoppairs[pos4+1]\n",
    "#                                         elif (secondtoppairs[pos3+1]) == int:  \n",
    "#                                             rhs=secondtoppairs[pos3+1]\n",
    "#                                         elif (secondtoppairs[pos3+1]) == int:  \n",
    "                                            \n",
    "                                    if type(fourthpairs) == type(list()):\n",
    "#                                         try:\n",
    "                                        results = count_pos(str(replaced).replace(' ',''),str(fourthpairs).replace(' ',''))\n",
    "#                                         except Exception as e:\n",
    "#                                             #print(e)\n",
    "#                                             print('ERROR',replaced,fourthpairs)\n",
    "#                                             break\n",
    "                                        lhs,lhs_pos = results['lhs']\n",
    "                                        rhs,rhs_pos = results['rhs']\n",
    "\n",
    "            \n",
    "                                        if lhs != None:\n",
    "                                            #newpair[0] = fourthpairs[0]+replaced[lhs_pos]\n",
    "                                            if len(lhs_pos) ==4:\n",
    "                                                replaced[lhs_pos[0]][lhs_pos[1]][lhs_pos[2]][lhs_pos[3]] = fourthpairs[0]+lhs\n",
    "                                            elif len(lhs_pos) ==3:\n",
    "                                                replaced[lhs_pos[0]][lhs_pos[1]][lhs_pos[2]] = fourthpairs[0]+lhs\n",
    "                                            elif len(lhs_pos) ==2:\n",
    "                                                replaced[lhs_pos[0]][lhs_pos[1]] = fourthpairs[0]+lhs\n",
    "                                            elif len(lhs_pos) ==1:\n",
    "                                                replaced[lhs_pos[0]] = fourthpairs[0]+lhs\n",
    "\n",
    "                                        if rhs != None:\n",
    "                                            \n",
    "                                            #newpair[0] = fourthpairs[0]+replaced[lhs_pos]\n",
    "                                            if len(rhs_pos) ==4:\n",
    "                                                replaced[rhs_pos[0]][rhs_pos[1]][rhs_pos[2]][rhs_pos[3]] = fourthpairs[1]+rhs\n",
    "                                            elif len(rhs_pos) ==3:\n",
    "                                                replaced[rhs_pos[0]][rhs_pos[1]][rhs_pos[2]] = fourthpairs[1]+rhs\n",
    "                                            elif len(rhs_pos) ==2:\n",
    "                                                replaced[rhs_pos[0]][rhs_pos[1]] = fourthpairs[1]+rhs\n",
    "                                            elif len(rhs_pos) ==1:\n",
    "                                                replaced[rhs_pos[0]] = fourthpairs[1]+rhs\n",
    "                                        \n",
    "#                                             #check there's an alternate \n",
    "                                            \n",
    "                                        replaced[pos1][pos2][pos3][pos4]=0\n",
    "                                        return str(replaced).replace(' ','')\n",
    "                                        #exploded=True\n",
    "                                except TypeError:\n",
    "                                    #print('no more')\n",
    "                                    pass\n",
    "                        except TypeError:\n",
    "                            #print('no more')\n",
    "                            pass\n",
    "                except TypeError:\n",
    "                    #print('no more')\n",
    "                    pass\n",
    "        except TypeError:\n",
    "            #print('no more')\n",
    "            pass\n",
    "    return str(replaced).replace(' ','')\n",
    "\n",
    "explode(t='[[3,[2,[1,[7,3]]]],[6,[5,[4,[3,2]]]]]')"
   ]
  },
  {
   "cell_type": "code",
   "execution_count": 343,
   "id": "bc217d28",
   "metadata": {},
   "outputs": [
    {
     "data": {
      "text/plain": [
       "'[[[6,7],[4,[[5,6],[9,9]],2]]]'"
      ]
     },
     "execution_count": 343,
     "metadata": {},
     "output_type": "execute_result"
    }
   ],
   "source": [
    "def split(t):\n",
    "    co = copy.deepcopy(t)\n",
    "    for c in t.replace('[','').replace(']','').split(','):\n",
    "        num = int(c)\n",
    "        if num>=10:\n",
    "            replacement=str([math.floor(num/2),math.ceil(num/2)]).replace(' ','')\n",
    "            co = co.replace(str(num),replacement)\n",
    "    return co\n",
    "split('[[13,[4,[11,18],2]]]')"
   ]
  },
  {
   "cell_type": "code",
   "execution_count": 315,
   "id": "8908b068",
   "metadata": {},
   "outputs": [
    {
     "data": {
      "text/plain": [
       "{'lhs': [5, [0, 1, 0, 0, 1]], 'rhs': [9, [0, 1, 1, 0]]}"
      ]
     },
     "execution_count": 315,
     "metadata": {},
     "output_type": "execute_result"
    }
   ],
   "source": [
    "count_pos('[[[[0,[4,5]],[0,0]],[[[4,5],[2,6]],[9,5]]],[7,[[[3,7],[4,3]],[[6,3],[8,8]]]]]','[2,6]')"
   ]
  },
  {
   "cell_type": "code",
   "execution_count": null,
   "id": "2d325046",
   "metadata": {},
   "outputs": [],
   "source": []
  },
  {
   "cell_type": "code",
   "execution_count": 349,
   "id": "93122fa3",
   "metadata": {},
   "outputs": [
    {
     "name": "stdout",
     "output_type": "stream",
     "text": [
      "4 4 [0, 1, 0, 0, 0]\n",
      "9 9 [0, 1, 1, 0]\n"
     ]
    }
   ],
   "source": [
    "def deep_get(lst, *indices):\n",
    "    #cheat = [[i] for i in indices]\n",
    "    for i in indices:\n",
    "        lst = lst[i]\n",
    "    return lst\n",
    "\n",
    "\n",
    "def test_count(ts,pair):\n",
    "    results = count_pos(ts,pair)\n",
    "    evalues = eval(ts)\n",
    "    print(results['lhs'][0],deep_get(evalues,*results['lhs'][1]),results['lhs'][1])\n",
    "    print(results['rhs'][0],deep_get(evalues,*results['rhs'][1]),results['rhs'][1])\n",
    "\n",
    "\n",
    "    assert results['lhs'][0] == deep_get(evalues,*results['lhs'][1])\n",
    "    assert results['rhs'][0] == deep_get(evalues,*results['rhs'][1])\n",
    "\n",
    "test_count('[[[[0,[4,5]],[0,0]],[[[4,5],[2,6]],[9,5]]],[7,[[[3,7],[4,3]],[[6,3],[8,8]]]]]','[2,6]')"
   ]
  },
  {
   "cell_type": "code",
   "execution_count": null,
   "id": "340c3b20",
   "metadata": {},
   "outputs": [],
   "source": [
    "Here is the process of finding the reduced result of [[[[4,3],4],4],[7,[[8,4],9]]] + [1,1]:\n",
    "\n",
    "after addition: [[[[[4,3],4],4],[7,[[8,4],9]]],[1,1]]\n",
    "after explode:  [[[[0,7],4],[7,[[8,4],9]]],[1,1]]\n",
    "after explode:  [[[[0,7],4],[15,[0,13]]],[1,1]]\n",
    "after split:    [[[[0,7],4],[[7,8],[0,13]]],[1,1]]\n",
    "after split:    [[[[0,7],4],[[7,8],[0,[6,7]]]],[1,1]]\n",
    "after explode:  [[[[0,7],4],[[7,8],[6,0]]],[8,1]]\n"
   ]
  },
  {
   "cell_type": "code",
   "execution_count": 317,
   "id": "d5abebcc",
   "metadata": {},
   "outputs": [
    {
     "name": "stdout",
     "output_type": "stream",
     "text": [
      "after addition [[[[[4,3],4],4],[7,[[8,4],9]]],[1,1]]\n",
      "after explode [[[[0,7],4],[7,[[8,4],9]]],[1,1]]\n",
      "after explode [[[[0,7],4],[15,[0,13]]],[1,1]]\n",
      "after split [[[[0,7],4],[[7,8],[0,[6,7]]]],[1,1]]\n",
      "after explode [[[[0,7],4],[[7,8],[6,0]]],[8,1]]\n"
     ]
    }
   ],
   "source": [
    "tmp = adding('[[[[4,3],4],4],[7,[[8,4],9]]]' , '[1,1]')\n",
    "print('after addition',tmp)\n",
    "tm = explode(tmp)\n",
    "print('after explode',tm)\n",
    "tm = explode(tm)\n",
    "print('after explode',tm)\n",
    "ts = split(tm)\n",
    "print('after split', ts)\n",
    "print('after explode', explode(ts))"
   ]
  },
  {
   "cell_type": "code",
   "execution_count": 358,
   "id": "88a08218",
   "metadata": {},
   "outputs": [
    {
     "name": "stdout",
     "output_type": "stream",
     "text": [
      "[[[[7,6],[6,0]],[[5,0],[5,6]]],[[[0,4],6],[8,7]]]\n"
     ]
    }
   ],
   "source": [
    "tosum = '''[1,1]\n",
    "[2,2]\n",
    "[3,3]\n",
    "[4,4]'''\n",
    "\n",
    "tosum = '''[1,1]\n",
    "[2,2]\n",
    "[3,3]\n",
    "[4,4]\n",
    "[5,5]\n",
    "[6,6]'''\n",
    "\n",
    "tosum = '''[[[0,[4,5]],[0,0]],[[[4,5],[2,6]],[9,5]]]\n",
    "[7,[[[3,7],[4,3]],[[6,3],[8,8]]]]\n",
    "[[2,[[0,8],[3,4]]],[[[6,7],1],[7,[1,6]]]]\n",
    "[[[[2,4],7],[6,[0,5]]],[[[6,8],[2,8]],[[2,1],[4,5]]]]\n",
    "[7,[5,[[3,8],[1,4]]]]\n",
    "[[2,[2,2]],[8,[8,1]]]\n",
    "[2,9]\n",
    "[1,[[[9,3],9],[[9,0],[0,7]]]]\n",
    "[[[5,[7,4]],7],1]\n",
    "[[[[4,2],2],6],[8,7]]'''\n",
    "\n",
    "tosum = '''[[[0,[4,5]],[0,0]],[[[4,5],[2,6]],[9,5]]]\n",
    "[7,[[[3,7],[4,3]],[[6,3],[8,8]]]]\n",
    "[[2,[[0,8],[3,4]]],[[[6,7],1],[7,[1,6]]]]\n",
    "[[[[2,4],7],[6,[0,5]]],[[[6,8],[2,8]],[[2,1],[4,5]]]]\n",
    "[7,[5,[[3,8],[1,4]]]]\n",
    "[[2,[2,2]],[8,[8,1]]]\n",
    "[2,9]\n",
    "[1,[[[9,3],9],[[9,0],[0,7]]]]\n",
    "[[[5,[7,4]],7],1]\n",
    "[[[[4,2],2],6],[8,7]]'''\n",
    "\n",
    "\n",
    "a=tosum.split('\\n')[0]\n",
    "for b in tosum.split('\\n')[1:]:\n",
    "    a = reduce(adding(a,b))\n",
    "print(a)"
   ]
  },
  {
   "cell_type": "code",
   "execution_count": null,
   "id": "b4cc2571",
   "metadata": {},
   "outputs": [],
   "source": [
    "[[[[8,7],[7,7]],[[8,6],[7,7]]],[[[0,7],[6,6]],[8,7]]]"
   ]
  },
  {
   "cell_type": "code",
   "execution_count": null,
   "id": "d48cab54",
   "metadata": {},
   "outputs": [],
   "source": [
    "def mag(t):\n",
    "    t=eval(t)\n",
    "    for "
   ]
  },
  {
   "cell_type": "code",
   "execution_count": 328,
   "id": "a85981c0",
   "metadata": {},
   "outputs": [
    {
     "name": "stdout",
     "output_type": "stream",
     "text": [
      "[[[[4,0],[5,0]],[[[4,5],[2,6]],[9,5]]],[7,[[[3,7],[4,3]],[[6,3],[8,8]]]]] [4,5]\n",
      "0 [[4, 5], [2, 6]]\n",
      "2 2\n"
     ]
    },
    {
     "ename": "AssertionError",
     "evalue": "",
     "output_type": "error",
     "traceback": [
      "\u001b[0;31m---------------------------------------------------------------------------\u001b[0m",
      "\u001b[0;31mAssertionError\u001b[0m                            Traceback (most recent call last)",
      "\u001b[0;32m<ipython-input-328-45ea3d77e884>\u001b[0m in \u001b[0;36m<module>\u001b[0;34m\u001b[0m\n\u001b[0;32m----> 1\u001b[0;31m \u001b[0mtest_count\u001b[0m\u001b[0;34m(\u001b[0m\u001b[0;34m'[[[[4,0],[5,0]],[[[4,5],[2,6]],[9,5]]],[7,[[[3,7],[4,3]],[[6,3],[8,8]]]]]'\u001b[0m\u001b[0;34m,\u001b[0m\u001b[0;34m'[4,5]'\u001b[0m\u001b[0;34m)\u001b[0m\u001b[0;34m\u001b[0m\u001b[0;34m\u001b[0m\u001b[0m\n\u001b[0m",
      "\u001b[0;32m<ipython-input-321-c2fcbdb5fabc>\u001b[0m in \u001b[0;36mtest_count\u001b[0;34m(ts, pair)\u001b[0m\n\u001b[1;32m     13\u001b[0m \u001b[0;34m\u001b[0m\u001b[0m\n\u001b[1;32m     14\u001b[0m \u001b[0;34m\u001b[0m\u001b[0m\n\u001b[0;32m---> 15\u001b[0;31m     \u001b[0;32massert\u001b[0m \u001b[0mresults\u001b[0m\u001b[0;34m[\u001b[0m\u001b[0;34m'lhs'\u001b[0m\u001b[0;34m]\u001b[0m\u001b[0;34m[\u001b[0m\u001b[0;36m0\u001b[0m\u001b[0;34m]\u001b[0m \u001b[0;34m==\u001b[0m \u001b[0mdeep_get\u001b[0m\u001b[0;34m(\u001b[0m\u001b[0mevalues\u001b[0m\u001b[0;34m,\u001b[0m\u001b[0;34m*\u001b[0m\u001b[0mresults\u001b[0m\u001b[0;34m[\u001b[0m\u001b[0;34m'lhs'\u001b[0m\u001b[0;34m]\u001b[0m\u001b[0;34m[\u001b[0m\u001b[0;36m1\u001b[0m\u001b[0;34m]\u001b[0m\u001b[0;34m)\u001b[0m\u001b[0;34m\u001b[0m\u001b[0;34m\u001b[0m\u001b[0m\n\u001b[0m\u001b[1;32m     16\u001b[0m     \u001b[0;32massert\u001b[0m \u001b[0mresults\u001b[0m\u001b[0;34m[\u001b[0m\u001b[0;34m'rhs'\u001b[0m\u001b[0;34m]\u001b[0m\u001b[0;34m[\u001b[0m\u001b[0;36m0\u001b[0m\u001b[0;34m]\u001b[0m \u001b[0;34m==\u001b[0m \u001b[0mdeep_get\u001b[0m\u001b[0;34m(\u001b[0m\u001b[0mevalues\u001b[0m\u001b[0;34m,\u001b[0m\u001b[0;34m*\u001b[0m\u001b[0mresults\u001b[0m\u001b[0;34m[\u001b[0m\u001b[0;34m'rhs'\u001b[0m\u001b[0;34m]\u001b[0m\u001b[0;34m[\u001b[0m\u001b[0;36m1\u001b[0m\u001b[0;34m]\u001b[0m\u001b[0;34m)\u001b[0m\u001b[0;34m\u001b[0m\u001b[0;34m\u001b[0m\u001b[0m\n\u001b[1;32m     17\u001b[0m \u001b[0;34m\u001b[0m\u001b[0m\n",
      "\u001b[0;31mAssertionError\u001b[0m: "
     ]
    }
   ],
   "source": [
    "test_count('[[[[4,0],[5,0]],[[[4,5],[2,6]],[9,5]]],[7,[[[3,7],[4,3]],[[6,3],[8,8]]]]]','[4,5]')"
   ]
  },
  {
   "cell_type": "code",
   "execution_count": 282,
   "id": "64336bc2",
   "metadata": {},
   "outputs": [
    {
     "data": {
      "text/plain": [
       "{'lhs': [5, [0, 1, 0, 0]], 'rhs': [9, [0, 1, 1, 0]]}"
      ]
     },
     "execution_count": 282,
     "metadata": {},
     "output_type": "execute_result"
    }
   ],
   "source": [
    "count_pos('[[[[0,[4,5]],[0,0]],[[[4,5],[2,6]],[9,5]]],[7,[[[3,7],[4,3]],[[6,3],[8,8]]]]]','[2,6]')"
   ]
  },
  {
   "cell_type": "code",
   "execution_count": 249,
   "id": "8dbe2076",
   "metadata": {},
   "outputs": [],
   "source": [
    "def boil(t):\n",
    "    \n",
    "    inputt = copy.deepcopy(t)\n",
    "    while True:\n",
    "        ans = explode(t)\n",
    "        if ans==t:\n",
    "            break\n",
    "        else:\n",
    "            t = ans\n",
    "        \n",
    "    while True:\n",
    "        ans = split(t)\n",
    "        if ans==t:\n",
    "            break\n",
    "        else:\n",
    "            t = ans\n",
    "    \n",
    "    return ans\n",
    "\n",
    "def reduce(tea):\n",
    "    while True:\n",
    "        a = boil(tea)\n",
    "        #print(a)\n",
    "        if a == boil(a):\n",
    "            break\n",
    "        tea = a\n",
    "    return a"
   ]
  },
  {
   "cell_type": "code",
   "execution_count": null,
   "id": "3a6727ac",
   "metadata": {},
   "outputs": [],
   "source": []
  },
  {
   "cell_type": "code",
   "execution_count": 170,
   "id": "60188ca1",
   "metadata": {},
   "outputs": [
    {
     "data": {
      "text/plain": [
       "1"
      ]
     },
     "execution_count": 170,
     "metadata": {},
     "output_type": "execute_result"
    }
   ],
   "source": [
    "eval('[[[[[9,8],1],2],3],4]')[0][0][0][1]"
   ]
  },
  {
   "cell_type": "code",
   "execution_count": 171,
   "id": "6c2c1ea6",
   "metadata": {},
   "outputs": [
    {
     "data": {
      "text/plain": [
       "6"
      ]
     },
     "execution_count": 171,
     "metadata": {},
     "output_type": "execute_result"
    }
   ],
   "source": [
    "eval('[[3,[2,[1,[7,3]]]],[6,[5,[4,[3,2]]]]]')[1][0]"
   ]
  },
  {
   "cell_type": "code",
   "execution_count": 172,
   "id": "22415ccd",
   "metadata": {},
   "outputs": [
    {
     "name": "stdout",
     "output_type": "stream",
     "text": [
      "test: [[[[[9,8],1],2],3],4]\n",
      "pass\n",
      "test: [7,[6,[5,[4,[3,2]]]]]\n",
      "pass\n",
      "test: [[6,[5,[4,[3,2]]]],1]\n",
      "pass\n",
      "test: [[3,[2,[1,[7,3]]]],[6,[5,[4,[3,2]]]]]\n",
      "pass\n",
      "test: [[3,[2,[8,0]]],[9,[5,[4,[3,2]]]]]\n",
      "pass\n"
     ]
    }
   ],
   "source": [
    "for k,v in explode_test.items():\n",
    "    print('test:',k)\n",
    "    if explode(t=eval(k))== v:\n",
    "        print('pass')\n",
    "    else:\n",
    "        print('fail')\n",
    "        print(k,explode(t=eval(k)),v)"
   ]
  },
  {
   "cell_type": "code",
   "execution_count": 143,
   "id": "c64d0f62",
   "metadata": {},
   "outputs": [
    {
     "data": {
      "text/plain": [
       "{'lhs': [4, [0, 1, 1, 1, 0]], 'rhs': [None, None]}"
      ]
     },
     "execution_count": 143,
     "metadata": {},
     "output_type": "execute_result"
    }
   ],
   "source": [
    "count_pos('[[3,[2,[1,[7,3]]]],[6,[5,[4,[3,2]]]]]','[3,2]')"
   ]
  },
  {
   "cell_type": "code",
   "execution_count": 149,
   "id": "5b87cee6",
   "metadata": {},
   "outputs": [
    {
     "data": {
      "text/plain": [
       "4"
      ]
     },
     "execution_count": 149,
     "metadata": {},
     "output_type": "execute_result"
    }
   ],
   "source": [
    "eval('[[3,[2,[1,[7,3]]]],[6,[5,[4,[3,2]]]]]')[1][1][1][0]"
   ]
  },
  {
   "cell_type": "code",
   "execution_count": 33,
   "id": "4f3b1b1f",
   "metadata": {},
   "outputs": [
    {
     "data": {
      "text/plain": [
       "True"
      ]
     },
     "execution_count": 33,
     "metadata": {},
     "output_type": "execute_result"
    }
   ],
   "source": [
    "type(5) == int"
   ]
  },
  {
   "cell_type": "code",
   "execution_count": 4,
   "id": "8389c902",
   "metadata": {},
   "outputs": [],
   "source": [
    "#adding\n",
    "def adding(a,b):\n",
    "    return '[' +a+','+b +']'\n",
    "    \n",
    "assert adding('[1,2]' , '[[3,4],5]') == '[[1,2],[[3,4],5]]'"
   ]
  },
  {
   "cell_type": "code",
   "execution_count": null,
   "id": "e4f6f38b",
   "metadata": {},
   "outputs": [],
   "source": []
  }
 ],
 "metadata": {
  "kernelspec": {
   "display_name": "Python 3",
   "language": "python",
   "name": "python3"
  },
  "language_info": {
   "codemirror_mode": {
    "name": "ipython",
    "version": 3
   },
   "file_extension": ".py",
   "mimetype": "text/x-python",
   "name": "python",
   "nbconvert_exporter": "python",
   "pygments_lexer": "ipython3",
   "version": "3.8.8"
  }
 },
 "nbformat": 4,
 "nbformat_minor": 5
}
