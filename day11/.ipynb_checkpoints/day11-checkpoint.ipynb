{
 "cells": [
  {
   "cell_type": "code",
   "execution_count": 76,
   "id": "311e3647",
   "metadata": {},
   "outputs": [],
   "source": [
    "lines = '''5483143223\n",
    "2745854711\n",
    "5264556173\n",
    "6141336146\n",
    "6357385478\n",
    "4167524645\n",
    "2176841721\n",
    "6882881134\n",
    "4846848554\n",
    "5283751526'''.split('\\n')"
   ]
  },
  {
   "cell_type": "code",
   "execution_count": 2,
   "id": "f3c98023",
   "metadata": {},
   "outputs": [],
   "source": [
    "import numpy as np"
   ]
  },
  {
   "cell_type": "code",
   "execution_count": 81,
   "id": "ccf9066b",
   "metadata": {},
   "outputs": [],
   "source": [
    "f = open('input.txt','r')\n",
    "lines = f.read().split('\\n')[:-1]\n"
   ]
  },
  {
   "cell_type": "code",
   "execution_count": null,
   "id": "4211bae1",
   "metadata": {},
   "outputs": [],
   "source": []
  },
  {
   "cell_type": "code",
   "execution_count": 71,
   "id": "adcd0015",
   "metadata": {},
   "outputs": [
    {
     "data": {
      "text/plain": [
       "array([[0, 0, 0, 0, 0, 0, 0, 0, 0, 0],\n",
       "       [0, 0, 0, 0, 0, 0, 0, 0, 0, 0],\n",
       "       [0, 0, 0, 0, 0, 0, 0, 0, 0, 0],\n",
       "       [0, 0, 0, 0, 0, 0, 0, 0, 0, 0],\n",
       "       [0, 0, 0, 0, 0, 0, 0, 0, 0, 0],\n",
       "       [0, 0, 0, 0, 0, 0, 0, 0, 0, 0],\n",
       "       [0, 0, 0, 0, 0, 0, 0, 0, 0, 0],\n",
       "       [0, 0, 0, 0, 0, 0, 0, 0, 0, 0],\n",
       "       [0, 0, 0, 0, 0, 0, 0, 0, 0, 0],\n",
       "       [0, 0, 0, 0, 0, 0, 0, 0, 0, 0]])"
      ]
     },
     "execution_count": 71,
     "metadata": {},
     "output_type": "execute_result"
    }
   ],
   "source": [
    "grid = np.zeros(shape=(len(lines),len(lines[0])),dtype=int)\n",
    "grid"
   ]
  },
  {
   "cell_type": "code",
   "execution_count": 77,
   "id": "aeea4b27",
   "metadata": {},
   "outputs": [],
   "source": [
    "grid = np.zeros(shape=(len(lines),len(lines[0])),dtype=int)\n",
    "\n",
    "for y,line in enumerate(lines):\n",
    "    for x,l in enumerate(line):\n",
    "        grid[y,x] = int(l)\n",
    "        \n",
    "#pad it out for easy index\n",
    "grid = np.pad(grid,1,mode='constant',constant_values='0')"
   ]
  },
  {
   "cell_type": "code",
   "execution_count": 82,
   "id": "96e41b4f",
   "metadata": {},
   "outputs": [
    {
     "name": "stdout",
     "output_type": "stream",
     "text": [
      "1655\n"
     ]
    }
   ],
   "source": [
    "grid = np.zeros(shape=(len(lines),len(lines[0])),dtype=int)\n",
    "\n",
    "for y,line in enumerate(lines):\n",
    "    for x,l in enumerate(line):\n",
    "        grid[y,x] = int(l)\n",
    "        \n",
    "#pad it out for easy index\n",
    "grid = np.pad(grid,1,mode='constant',constant_values='0')\n",
    "\n",
    "tally=0\n",
    "for step in range(0,100):\n",
    "    grid+=1\n",
    "    grid[0,:]=0\n",
    "    grid[-1,:]=0\n",
    "    grid[:,-1]=0\n",
    "    grid[:,0]=0\n",
    "    \n",
    "    flashedx=[]\n",
    "    flashedy=[]\n",
    "    while True:\n",
    "        #print(grid)\n",
    "        y,x = np.where(grid>9)\n",
    "        #print(step,len(x),len(y))\n",
    "        xpos,ypos=list(x),list(y)\n",
    "        flashedx+=xpos\n",
    "        flashedy+=ypos\n",
    "        \n",
    "        tally+=len(x)\n",
    "        for x,y in zip(xpos,ypos):\n",
    "            grid[y-1:y+2,x-1:x+2] +=1\n",
    "            grid[y,x] = 0\n",
    "            \n",
    "        if len(xpos)==0:\n",
    "            #print(step)\n",
    "            break\n",
    "            \n",
    "        grid[0,:]=0\n",
    "        grid[-1,:]=0\n",
    "        grid[:,-1]=0\n",
    "        grid[:,0]=0\n",
    "    \n",
    "    for x,y in zip(flashedx,flashedy):\n",
    "        grid[y,x] = 0\n",
    "    #print(grid)\n",
    "    #if step >1:\n",
    "    #    break\n",
    "print(tally)\n",
    "    "
   ]
  },
  {
   "cell_type": "code",
   "execution_count": 83,
   "id": "268527fa",
   "metadata": {},
   "outputs": [
    {
     "name": "stdout",
     "output_type": "stream",
     "text": [
      "337\n",
      "5352\n"
     ]
    }
   ],
   "source": [
    "grid = np.zeros(shape=(len(lines),len(lines[0])),dtype=int)\n",
    "\n",
    "for y,line in enumerate(lines):\n",
    "    for x,l in enumerate(line):\n",
    "        grid[y,x] = int(l)\n",
    "        \n",
    "#pad it out for easy index\n",
    "grid = np.pad(grid,1,mode='constant',constant_values='0')\n",
    "\n",
    "tally=0\n",
    "step=0\n",
    "while True:\n",
    "    grid+=1\n",
    "    grid[0,:]=0\n",
    "    grid[-1,:]=0\n",
    "    grid[:,-1]=0\n",
    "    grid[:,0]=0\n",
    "    \n",
    "    flashedx=[]\n",
    "    flashedy=[]\n",
    "    while True:\n",
    "        #print(grid)\n",
    "        y,x = np.where(grid>9)\n",
    "        #print(step,len(x),len(y))\n",
    "        xpos,ypos=list(x),list(y)\n",
    "        flashedx+=xpos\n",
    "        flashedy+=ypos\n",
    "        \n",
    "        tally+=len(x)\n",
    "        for x,y in zip(xpos,ypos):\n",
    "            grid[y-1:y+2,x-1:x+2] +=1\n",
    "            grid[y,x] = 0\n",
    "            \n",
    "        if len(xpos)==0:\n",
    "            #print(step)\n",
    "            break\n",
    "            \n",
    "        grid[0,:]=0\n",
    "        grid[-1,:]=0\n",
    "        grid[:,-1]=0\n",
    "        grid[:,0]=0\n",
    "    \n",
    "    for x,y in zip(flashedx,flashedy):\n",
    "        grid[y,x] = 0\n",
    "    #print(grid)\n",
    "    #if step >1:\n",
    "    #    break\n",
    "    \n",
    "    if len(flashedx)==100:\n",
    "        print(step+1)\n",
    "        break\n",
    "    step+=1\n",
    "print(tally)\n",
    "    "
   ]
  }
 ],
 "metadata": {
  "kernelspec": {
   "display_name": "Python 3",
   "language": "python",
   "name": "python3"
  },
  "language_info": {
   "codemirror_mode": {
    "name": "ipython",
    "version": 3
   },
   "file_extension": ".py",
   "mimetype": "text/x-python",
   "name": "python",
   "nbconvert_exporter": "python",
   "pygments_lexer": "ipython3",
   "version": "3.8.8"
  }
 },
 "nbformat": 4,
 "nbformat_minor": 5
}
