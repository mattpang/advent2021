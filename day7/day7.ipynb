{
 "cells": [
  {
   "cell_type": "code",
   "execution_count": 17,
   "id": "ea7a67e3",
   "metadata": {},
   "outputs": [],
   "source": [
    "f = open('./input.txt','r')\n",
    "nums = list(map(int,f.read().split(',')))\n",
    "\n",
    "#nums = list(map(int,'''16,1,2,0,4,2,7,1,2,14'''.split(',')))\n",
    "\n"
   ]
  },
  {
   "cell_type": "code",
   "execution_count": 18,
   "id": "3aa1b591",
   "metadata": {},
   "outputs": [
    {
     "data": {
      "text/plain": [
       "329389"
      ]
     },
     "execution_count": 18,
     "metadata": {},
     "output_type": "execute_result"
    }
   ],
   "source": [
    "import numpy as np\n",
    "np.abs(np.asarray(nums)-int(np.median(nums))).sum()"
   ]
  },
  {
   "cell_type": "code",
   "execution_count": 24,
   "id": "e4215213",
   "metadata": {},
   "outputs": [
    {
     "data": {
      "text/plain": [
       "1934"
      ]
     },
     "execution_count": 24,
     "metadata": {},
     "output_type": "execute_result"
    }
   ],
   "source": [
    "max(nums)\n",
    "np.median(nums)"
   ]
  },
  {
   "cell_type": "code",
   "execution_count": 25,
   "id": "1b3b3398",
   "metadata": {},
   "outputs": [
    {
     "name": "stdout",
     "output_type": "stream",
     "text": [
      "86397080 459\n"
     ]
    }
   ],
   "source": [
    "#16 to 5 should cost 66\n",
    "def movecost(frompos,topos):\n",
    "    d = abs(frompos-topos)\n",
    "    cost=0\n",
    "    for i in range(d+1):\n",
    "        cost+=i\n",
    "    return cost\n",
    "\n",
    "\n",
    "lowest = 1E9\n",
    "for endpoint in range(144,1934):\n",
    "    tally=0\n",
    "    for n in nums:\n",
    "        tally += movecost(n,endpoint)\n",
    "    if tally<lowest :\n",
    "        lowest = tally\n",
    "        point = endpoint\n",
    "        \n",
    "print(lowest,point)"
   ]
  },
  {
   "cell_type": "code",
   "execution_count": null,
   "id": "ad05aff7",
   "metadata": {},
   "outputs": [],
   "source": []
  }
 ],
 "metadata": {
  "kernelspec": {
   "display_name": "Python 3",
   "language": "python",
   "name": "python3"
  },
  "language_info": {
   "codemirror_mode": {
    "name": "ipython",
    "version": 3
   },
   "file_extension": ".py",
   "mimetype": "text/x-python",
   "name": "python",
   "nbconvert_exporter": "python",
   "pygments_lexer": "ipython3",
   "version": "3.8.8"
  }
 },
 "nbformat": 4,
 "nbformat_minor": 5
}
