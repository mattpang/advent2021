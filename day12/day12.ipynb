{
 "cells": [
  {
   "cell_type": "code",
   "execution_count": 3,
   "id": "892911b4",
   "metadata": {},
   "outputs": [],
   "source": [
    "lines= '''fs-end\n",
    "he-DX\n",
    "fs-he\n",
    "start-DX\n",
    "pj-DX\n",
    "end-zg\n",
    "zg-sl\n",
    "zg-pj\n",
    "pj-he\n",
    "RW-he\n",
    "fs-DX\n",
    "pj-RW\n",
    "zg-RW\n",
    "start-pj\n",
    "he-WI\n",
    "zg-he\n",
    "pj-fs\n",
    "start-RW'''.split('\\n')"
   ]
  },
  {
   "cell_type": "code",
   "execution_count": null,
   "id": "ca6d0be3",
   "metadata": {},
   "outputs": [],
   "source": []
  },
  {
   "cell_type": "code",
   "execution_count": 17,
   "id": "e094982b",
   "metadata": {},
   "outputs": [],
   "source": [
    "lines = '''start-A\n",
    "start-b\n",
    "A-c\n",
    "A-b\n",
    "b-d\n",
    "A-end\n",
    "b-end'''.split('\\n')"
   ]
  },
  {
   "cell_type": "code",
   "execution_count": 85,
   "id": "31c02468",
   "metadata": {},
   "outputs": [],
   "source": [
    "f = open('./input.txt','r')\n",
    "lines = f.read().split('\\n')[:-1]\n",
    "f.close()"
   ]
  },
  {
   "cell_type": "code",
   "execution_count": 86,
   "id": "96e16fbe",
   "metadata": {},
   "outputs": [
    {
     "data": {
      "text/plain": [
       "['CV-mk',\n",
       " 'gm-IK',\n",
       " 'sk-gm',\n",
       " 'ca-sk',\n",
       " 'sx-mk',\n",
       " 'gm-start',\n",
       " 'sx-ca',\n",
       " 'kt-sk',\n",
       " 'ca-VS',\n",
       " 'kt-ml',\n",
       " 'kt-ca',\n",
       " 'mk-IK',\n",
       " 'end-sx',\n",
       " 'end-sk',\n",
       " 'gy-sx',\n",
       " 'end-ca',\n",
       " 'ca-ml',\n",
       " 'gm-CV',\n",
       " 'sx-kt',\n",
       " 'start-CV',\n",
       " 'IK-start',\n",
       " 'CV-kt',\n",
       " 'ml-mk',\n",
       " 'ml-CV',\n",
       " 'ml-gm',\n",
       " 'ml-IK']"
      ]
     },
     "execution_count": 86,
     "metadata": {},
     "output_type": "execute_result"
    }
   ],
   "source": [
    "lines"
   ]
  },
  {
   "cell_type": "code",
   "execution_count": 87,
   "id": "96f4d71f",
   "metadata": {},
   "outputs": [
    {
     "data": {
      "text/plain": [
       "defaultdict(set,\n",
       "            {'CV': {'kt', 'mk'},\n",
       "             'gm': {'CV', 'IK', 'start'},\n",
       "             'sk': {'gm'},\n",
       "             'ca': {'VS', 'ml', 'sk'},\n",
       "             'sx': {'ca', 'kt', 'mk'},\n",
       "             'kt': {'ca', 'ml', 'sk'},\n",
       "             'mk': {'IK'},\n",
       "             'end': {'ca', 'sk', 'sx'},\n",
       "             'gy': {'sx'},\n",
       "             'start': {'CV'},\n",
       "             'IK': {'start'},\n",
       "             'ml': {'CV', 'IK', 'gm', 'mk'}})"
      ]
     },
     "execution_count": 87,
     "metadata": {},
     "output_type": "execute_result"
    }
   ],
   "source": [
    "from collections import defaultdict\n",
    "combos = []\n",
    "nodes=defaultdict(set)\n",
    "for line in lines:\n",
    "    nin,nout = line.split('-')\n",
    "    nodes[nin].add(nout)\n",
    "    combos.append([nin,nout])\n",
    "    combos.append([nout,nin])\n",
    "nodes"
   ]
  },
  {
   "cell_type": "code",
   "execution_count": 88,
   "id": "f5b1819d",
   "metadata": {},
   "outputs": [],
   "source": [
    "import networkx as nx"
   ]
  },
  {
   "cell_type": "code",
   "execution_count": null,
   "id": "30628f5c",
   "metadata": {},
   "outputs": [],
   "source": []
  },
  {
   "cell_type": "code",
   "execution_count": 89,
   "id": "90092126",
   "metadata": {},
   "outputs": [],
   "source": [
    "#226 possible paths\n",
    "G = nx.Graph()\n",
    "G.add_edges_from(combos)"
   ]
  },
  {
   "cell_type": "code",
   "execution_count": 91,
   "id": "c73cc089",
   "metadata": {},
   "outputs": [
    {
     "data": {
      "text/plain": [
       "1154"
      ]
     },
     "execution_count": 91,
     "metadata": {},
     "output_type": "execute_result"
    }
   ],
   "source": [
    "len(list(nx.all_simple_paths(G,source='start',target='end')))"
   ]
  },
  {
   "cell_type": "code",
   "execution_count": 92,
   "id": "e4ea7205",
   "metadata": {},
   "outputs": [],
   "source": [
    "#NX is no good here, as edges can be travelled more than once. need to write my own"
   ]
  },
  {
   "cell_type": "code",
   "execution_count": 93,
   "id": "45bfa787",
   "metadata": {},
   "outputs": [],
   "source": [
    "#you can visit small caves at most once, and can visit big caves any number of times."
   ]
  },
  {
   "cell_type": "code",
   "execution_count": 94,
   "id": "6445ab56",
   "metadata": {},
   "outputs": [
    {
     "name": "stdout",
     "output_type": "stream",
     "text": [
      "4186\n"
     ]
    }
   ],
   "source": [
    "todo = [['start']]\n",
    "finished = []\n",
    "\n",
    "while len(todo) > 0:\n",
    "    processing = todo.pop(0)\n",
    "    for i, o in combos:\n",
    "        if i != processing[-1]: \n",
    "            continue\n",
    "        if o.lower() == o and o in processing:\n",
    "            continue\n",
    "\n",
    "        nextpath = [processing + [o]]\n",
    "        if o == 'end':\n",
    "            finished += nextpath\n",
    "        else: \n",
    "            todo += nextpath\n",
    "\n",
    "print(len(finished))"
   ]
  },
  {
   "cell_type": "code",
   "execution_count": 97,
   "id": "8f127e2b",
   "metadata": {},
   "outputs": [
    {
     "name": "stdout",
     "output_type": "stream",
     "text": [
      "92111\n"
     ]
    }
   ],
   "source": [
    "todo = [[['start'],'']]\n",
    "finished = []\n",
    "\n",
    "while len(todo) > 0:\n",
    "    processing,beentwice = todo.pop(0)\n",
    "    for i, o in combos:\n",
    "        if i != processing[-1]: \n",
    "            continue\n",
    "            \n",
    "        if o == 'start' or (o.lower() == o and o in processing and beentwice != \"\"):\n",
    "            continue\n",
    "        \n",
    "        nextpath = [[processing + [o], [beentwice,o][o.lower() == o and o in processing]]]\n",
    "        \n",
    "        if o == 'end':\n",
    "            finished += nextpath\n",
    "        else: \n",
    "            todo += nextpath\n",
    "\n",
    "print(len(finished))"
   ]
  },
  {
   "cell_type": "code",
   "execution_count": 96,
   "id": "83c123e5",
   "metadata": {},
   "outputs": [
    {
     "name": "stdout",
     "output_type": "stream",
     "text": [
      "92111\n"
     ]
    }
   ],
   "source": [
    "print(len(finished))"
   ]
  },
  {
   "cell_type": "code",
   "execution_count": null,
   "id": "6f670f9e",
   "metadata": {},
   "outputs": [],
   "source": []
  }
 ],
 "metadata": {
  "kernelspec": {
   "display_name": "Python 3",
   "language": "python",
   "name": "python3"
  },
  "language_info": {
   "codemirror_mode": {
    "name": "ipython",
    "version": 3
   },
   "file_extension": ".py",
   "mimetype": "text/x-python",
   "name": "python",
   "nbconvert_exporter": "python",
   "pygments_lexer": "ipython3",
   "version": "3.8.8"
  }
 },
 "nbformat": 4,
 "nbformat_minor": 5
}
