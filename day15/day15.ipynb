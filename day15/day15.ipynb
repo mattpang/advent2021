{
 "cells": [
  {
   "cell_type": "code",
   "execution_count": 384,
   "id": "1af8e8c8",
   "metadata": {},
   "outputs": [],
   "source": [
    "lines = '''1163751742\n",
    "1381373672\n",
    "2136511328\n",
    "3694931569\n",
    "7463417111\n",
    "1319128137\n",
    "1359912421\n",
    "3125421639\n",
    "1293138521\n",
    "2311944581'''.split('\\n')"
   ]
  },
  {
   "cell_type": "code",
   "execution_count": 385,
   "id": "e2126b08",
   "metadata": {},
   "outputs": [
    {
     "data": {
      "text/plain": [
       "array([[1, 1, 6, 3, 7, 5, 1, 7, 4, 2],\n",
       "       [1, 3, 8, 1, 3, 7, 3, 6, 7, 2],\n",
       "       [2, 1, 3, 6, 5, 1, 1, 3, 2, 8],\n",
       "       [3, 6, 9, 4, 9, 3, 1, 5, 6, 9],\n",
       "       [7, 4, 6, 3, 4, 1, 7, 1, 1, 1],\n",
       "       [1, 3, 1, 9, 1, 2, 8, 1, 3, 7],\n",
       "       [1, 3, 5, 9, 9, 1, 2, 4, 2, 1],\n",
       "       [3, 1, 2, 5, 4, 2, 1, 6, 3, 9],\n",
       "       [1, 2, 9, 3, 1, 3, 8, 5, 2, 1],\n",
       "       [2, 3, 1, 1, 9, 4, 4, 5, 8, 1]])"
      ]
     },
     "execution_count": 385,
     "metadata": {},
     "output_type": "execute_result"
    }
   ],
   "source": [
    "import numpy as np\n",
    "grid = np.genfromtxt(lines,delimiter=1,dtype=int)\n",
    "grid"
   ]
  },
  {
   "cell_type": "code",
   "execution_count": 252,
   "id": "69ae151e",
   "metadata": {},
   "outputs": [
    {
     "data": {
      "text/plain": [
       "array([[3, 7, 2, ..., 4, 1, 8],\n",
       "       [5, 8, 3, ..., 3, 5, 2],\n",
       "       [4, 1, 3, ..., 5, 4, 8],\n",
       "       ...,\n",
       "       [3, 2, 3, ..., 9, 9, 1],\n",
       "       [9, 3, 9, ..., 1, 5, 9],\n",
       "       [1, 9, 6, ..., 4, 7, 7]])"
      ]
     },
     "execution_count": 252,
     "metadata": {},
     "output_type": "execute_result"
    }
   ],
   "source": [
    "import numpy as np\n",
    "grid = np.genfromtxt('input.txt',delimiter=1,dtype=int)\n",
    "grid"
   ]
  },
  {
   "cell_type": "code",
   "execution_count": 334,
   "id": "ea31a8b9",
   "metadata": {},
   "outputs": [
    {
     "data": {
      "text/plain": [
       "1"
      ]
     },
     "execution_count": 334,
     "metadata": {},
     "output_type": "execute_result"
    }
   ],
   "source": [
    "grid[-1,-1]"
   ]
  },
  {
   "cell_type": "code",
   "execution_count": 335,
   "id": "18622dba",
   "metadata": {},
   "outputs": [],
   "source": [
    "#grid=grid"
   ]
  },
  {
   "cell_type": "code",
   "execution_count": 336,
   "id": "45a3a1b0",
   "metadata": {},
   "outputs": [],
   "source": [
    "# start at flip[1,1], at each step, pick the possible paths and append. then we start from locations."
   ]
  },
  {
   "cell_type": "code",
   "execution_count": 337,
   "id": "3126f921",
   "metadata": {},
   "outputs": [
    {
     "data": {
      "text/plain": [
       "{(1, 1, 1), (1, 2, 8)}"
      ]
     },
     "execution_count": 337,
     "metadata": {},
     "output_type": "execute_result"
    }
   ],
   "source": [
    "set(((1,1,1),(1,2,8)))"
   ]
  },
  {
   "cell_type": "code",
   "execution_count": 338,
   "id": "00a729ed",
   "metadata": {},
   "outputs": [],
   "source": [
    "#make a recurivse depth wise search function? \n",
    "import networkx as nx\n",
    "\n",
    "\n",
    "    #return nx.dijkstra_path_length(mygraph, start, end, weight='risk')\n"
   ]
  },
  {
   "cell_type": "code",
   "execution_count": null,
   "id": "b100c71a",
   "metadata": {},
   "outputs": [],
   "source": []
  },
  {
   "cell_type": "code",
   "execution_count": 386,
   "id": "a74c462f",
   "metadata": {},
   "outputs": [],
   "source": [
    "graph=[]\n",
    "mygraph = nx.DiGraph()\n",
    "\n",
    "for y in range(0,len(grid)):\n",
    "    for x in range(0,len(grid[0])):\n",
    "        for x1,y1 in [(x,y+1),(x+1,y),(x,y-1),(x-1,y)]:\n",
    "            if x1 >= 0 and x1 < len(grid[0]) and y1 >= 0 and y < len(grid):\n",
    "                try:\n",
    "                    mygraph.add_edge((x,y),(x1,y1),weight=grid[y1,x1])\n",
    "                except IndexError:\n",
    "                    pass\n",
    "#         mygraph.add_edge((x,y),(x,y-1),weight=flip[y-1,x])\n",
    "#         mygraph.add_edge((x,y),(x-1,y),weight=flip[y,x-1])\n",
    "#         mygraph.add_edge((x,y),(x+1,y),weight=flip[y,x+1])\n"
   ]
  },
  {
   "cell_type": "code",
   "execution_count": 387,
   "id": "90ab7f9c",
   "metadata": {},
   "outputs": [],
   "source": [
    "#list(mygraph.adjacency())"
   ]
  },
  {
   "cell_type": "code",
   "execution_count": 388,
   "id": "e482f2b6",
   "metadata": {},
   "outputs": [
    {
     "data": {
      "text/plain": [
       "10"
      ]
     },
     "execution_count": 388,
     "metadata": {},
     "output_type": "execute_result"
    }
   ],
   "source": [
    "len(grid)"
   ]
  },
  {
   "cell_type": "code",
   "execution_count": 389,
   "id": "328d17c1",
   "metadata": {},
   "outputs": [
    {
     "name": "stdout",
     "output_type": "stream",
     "text": [
      "40\n"
     ]
    }
   ],
   "source": [
    "path = nx.dijkstra_path_length(mygraph, (0,0),(len(grid)-1,len(grid)-1), weight=\"weight\")\n",
    "print(path)\n",
    "# tally=0\n",
    "# for p in path[1:]:\n",
    "#     print(flip[p[0],p[1]])\n",
    "#     tally+=flip[p[0],p[1]]\n",
    "# tally"
   ]
  },
  {
   "cell_type": "code",
   "execution_count": 343,
   "id": "f2ce6b77",
   "metadata": {},
   "outputs": [
    {
     "data": {
      "text/plain": [
       "[(0, 0),\n",
       " (0, 1),\n",
       " (0, 2),\n",
       " (1, 2),\n",
       " (2, 2),\n",
       " (3, 2),\n",
       " (4, 2),\n",
       " (5, 2),\n",
       " (6, 2),\n",
       " (6, 3),\n",
       " (7, 3),\n",
       " (7, 4),\n",
       " (7, 5),\n",
       " (8, 5),\n",
       " (8, 6),\n",
       " (8, 7),\n",
       " (8, 8),\n",
       " (9, 8),\n",
       " (9, 9)]"
      ]
     },
     "execution_count": 343,
     "metadata": {},
     "output_type": "execute_result"
    }
   ],
   "source": [
    "nx.shortest_path(mygraph, (0,0),(len(grid)-1,len(grid)-1), weight=\"weight\")"
   ]
  },
  {
   "cell_type": "code",
   "execution_count": 350,
   "id": "9484daef",
   "metadata": {},
   "outputs": [
    {
     "name": "stdout",
     "output_type": "stream",
     "text": [
      "[(0, 0), (0, 1), (0, 2), (1, 2), (2, 2), (3, 2), (4, 2), (5, 2), (6, 2), (6, 3), (7, 3), (7, 4), (7, 5), (8, 5), (8, 6), (8, 7), (8, 8), (9, 8), (9, 9)]\n"
     ]
    },
    {
     "data": {
      "text/plain": [
       "Text(0.5, 1.0, '40')"
      ]
     },
     "execution_count": 350,
     "metadata": {},
     "output_type": "execute_result"
    },
    {
     "data": {
      "image/png": "[encoded data removed]",
      "text/plain": [
       "<Figure size 432x288 with 1 Axes>"
      ]
     },
     "metadata": {
      "needs_background": "light"
     },
     "output_type": "display_data"
    }
   ],
   "source": [
    "path = nx.shortest_path(mygraph, (0,0),(len(grid)-1,len(grid)-1), weight=\"weight\",method='dijkstra')\n",
    "print(path)\n",
    "g = np.zeros_like(grid)\n",
    "tally=-grid[path[0]]\n",
    "travelled=[]\n",
    "for p in path:\n",
    "    g[p]=1\n",
    "    tally+=grid[p[1],p[0]]\n",
    "    travelled.append(grid[p])\n",
    "#tally-=grid[path[0]]\n",
    "plt.imshow(g.T)\n",
    "plt.title(str(tally))"
   ]
  },
  {
   "cell_type": "code",
   "execution_count": 351,
   "id": "4726791d",
   "metadata": {},
   "outputs": [
    {
     "data": {
      "text/plain": [
       "<matplotlib.image.AxesImage at 0x7f9ae97782b0>"
      ]
     },
     "execution_count": 351,
     "metadata": {},
     "output_type": "execute_result"
    },
    {
     "data": {
      "image/png": "[encoded data removed]",
      "text/plain": [
       "<Figure size 432x288 with 1 Axes>"
      ]
     },
     "metadata": {
      "needs_background": "light"
     },
     "output_type": "display_data"
    }
   ],
   "source": [
    "plt.imshow(grid)"
   ]
  },
  {
   "cell_type": "code",
   "execution_count": 354,
   "id": "7c6c6844",
   "metadata": {},
   "outputs": [],
   "source": [
    "#grid = np.genfromtxt('input.txt',delimiter=1,dtype=int)\n",
    "grid = np.genfromtxt(lines,delimiter=1,dtype=int)\n",
    "grid -= 1\n",
    "grid = np.concatenate([grid+i for i in range(5)], axis=0)\n",
    "grid = np.concatenate([grid+i for i in range(5)], axis=1)\n",
    "grid = (grid%9+1)\n",
    "#grid=np.flipud(np.fliplr(grid))"
   ]
  },
  {
   "cell_type": "code",
   "execution_count": 357,
   "id": "62d0fe1e",
   "metadata": {},
   "outputs": [
    {
     "data": {
      "text/plain": [
       "array([[1, 1, 6, ..., 2, 8, 6],\n",
       "       [1, 3, 8, ..., 1, 2, 6],\n",
       "       [2, 1, 3, ..., 7, 6, 3],\n",
       "       ...,\n",
       "       [7, 5, 6, ..., 5, 2, 8],\n",
       "       [5, 6, 4, ..., 4, 1, 9],\n",
       "       [6, 7, 5, ..., 4, 7, 9]])"
      ]
     },
     "execution_count": 357,
     "metadata": {},
     "output_type": "execute_result"
    }
   ],
   "source": [
    "grid"
   ]
  },
  {
   "cell_type": "code",
   "execution_count": 325,
   "id": "93b95a0c",
   "metadata": {},
   "outputs": [
    {
     "data": {
      "text/plain": [
       "array([[1, 1, 6, ..., 2, 8, 6],\n",
       "       [1, 3, 8, ..., 1, 2, 6],\n",
       "       [2, 1, 3, ..., 7, 6, 3],\n",
       "       ...,\n",
       "       [7, 5, 6, ..., 5, 2, 8],\n",
       "       [5, 6, 4, ..., 4, 1, 9],\n",
       "       [6, 7, 5, ..., 4, 7, 9]])"
      ]
     },
     "execution_count": 325,
     "metadata": {},
     "output_type": "execute_result"
    }
   ],
   "source": [
    "np.flipud(np.fliplr(grid))"
   ]
  },
  {
   "cell_type": "code",
   "execution_count": 355,
   "id": "a468d1ed",
   "metadata": {},
   "outputs": [],
   "source": [
    "graph=[]\n",
    "mygraph = nx.Graph()\n",
    "\n",
    "for y in range(0,len(grid)):\n",
    "    for x in range(0,len(grid[0])):\n",
    "        for x1,y1 in [(x,y+1),(x+1,y),(x,y-1),(x-1,y)]:\n",
    "            if x1 >= 0 and x1 < len(grid[0]) and y1 >= 0 and y < len(grid):\n",
    "                try:\n",
    "                    mygraph.add_edge((y,x),(y1,x1),weight=grid[y1,x1])\n",
    "                except IndexError:\n",
    "                    pass\n",
    "#         mygraph.add_edge((x,y),(x,y-1),weight=flip[y-1,x])\n",
    "#         mygraph.add_edge((x,y),(x-1,y),weight=flip[y,x-1])\n",
    "#         mygraph.add_edge((x,y),(x+1,y),weight=flip[y,x+1])"
   ]
  },
  {
   "cell_type": "code",
   "execution_count": null,
   "id": "d9816fec",
   "metadata": {},
   "outputs": [],
   "source": []
  },
  {
   "cell_type": "code",
   "execution_count": 356,
   "id": "c37f09af",
   "metadata": {},
   "outputs": [
    {
     "name": "stdout",
     "output_type": "stream",
     "text": [
      "304\n"
     ]
    }
   ],
   "source": [
    "path = nx.dijkstra_path_length(mygraph, (0,0),(len(grid)-1,len(grid)-1), weight=\"weight\")\n",
    "print(path)"
   ]
  },
  {
   "cell_type": "markdown",
   "id": "29573748",
   "metadata": {},
   "source": [
    "shortest = 100000\n",
    "for sp in nx.shortest_simple_paths(mygraph,(0,0),(len(grid)-1,len(grid)-1), weight=\"weight\"):\n",
    "    tally=0\n",
    "    for p in sp:\n",
    "        tally+=grid[p]\n",
    "    if tally<shortest:\n",
    "        shortest=tally\n",
    "        print(shortest)\n",
    "shortest"
   ]
  },
  {
   "cell_type": "code",
   "execution_count": 382,
   "id": "dc0859fc",
   "metadata": {},
   "outputs": [
    {
     "data": {
      "text/plain": [
       "321"
      ]
     },
     "execution_count": 382,
     "metadata": {},
     "output_type": "execute_result"
    }
   ],
   "source": [
    "tally=0\n",
    "for p in sp:\n",
    "    tally+=grid[p]\n",
    "tally"
   ]
  },
  {
   "cell_type": "code",
   "execution_count": 370,
   "id": "d76b4cb8",
   "metadata": {},
   "outputs": [
    {
     "data": {
      "text/plain": [
       "Text(0.5, 1.0, '320')"
      ]
     },
     "execution_count": 370,
     "metadata": {},
     "output_type": "execute_result"
    },
    {
     "data": {
      "image/png": "[encoded data removed]",
      "text/plain": [
       "<Figure size 432x288 with 1 Axes>"
      ]
     },
     "metadata": {
      "needs_background": "light"
     },
     "output_type": "display_data"
    }
   ],
   "source": [
    "path = nx.shortest_path(mygraph, (0,0),(len(grid)-1,len(grid)-1), weight=\"weight\",method='dijkstra')\n",
    "#print(path)\n",
    "g = np.zeros_like(grid)\n",
    "tally=-grid[path[0][1],path[0][0]]\n",
    "travelled=[]\n",
    "for p in path:\n",
    "    g[p]=1\n",
    "    tally+=grid[p[0],p[1]]\n",
    "    travelled.append(grid[p])\n",
    "#tally-=grid[path[0]]\n",
    "plt.imshow(g)\n",
    "plt.title(str(tally))"
   ]
  },
  {
   "cell_type": "code",
   "execution_count": 368,
   "id": "2c0159f0",
   "metadata": {},
   "outputs": [
    {
     "data": {
      "text/plain": [
       "0"
      ]
     },
     "execution_count": 368,
     "metadata": {},
     "output_type": "execute_result"
    }
   ],
   "source": [
    "path[0][1]"
   ]
  },
  {
   "cell_type": "code",
   "execution_count": 317,
   "id": "e8397e91",
   "metadata": {},
   "outputs": [
    {
     "data": {
      "text/plain": [
       "[1, 1, 6, 8, 3, 9, 6, 4, 6, 1, 5, 9, 5, 4, 2, 3, 8, 5, 2, 8, 1]"
      ]
     },
     "execution_count": 317,
     "metadata": {},
     "output_type": "execute_result"
    }
   ],
   "source": [
    "travelled"
   ]
  },
  {
   "cell_type": "code",
   "execution_count": null,
   "id": "030aa5b9",
   "metadata": {},
   "outputs": [],
   "source": []
  },
  {
   "cell_type": "code",
   "execution_count": 395,
   "id": "e4b5a110",
   "metadata": {},
   "outputs": [
    {
     "name": "stdout",
     "output_type": "stream",
     "text": [
      "40\n",
      "315\n"
     ]
    }
   ],
   "source": [
    "import numpy as np\n",
    "import heapq as hq\n",
    "\n",
    "def search(m):\n",
    "    h,w = np.shape(m)\n",
    "    q = [(0,(0,0))]\n",
    "    while q:\n",
    "        risk, (x,y) = hq.heappop(q)\n",
    "        if (x,y) == (w-1,h-1):\n",
    "            return risk\n",
    "        for x,y in [(x,y+1),(x+1,y),(x,y-1),(x-1,y)]:\n",
    "            if x >= 0 and x < w and y >= 0 and y < h and m[y][x] >= 0:\n",
    "                hq.heappush(q, (risk+(m[y][x] % 9)+1, (x,y)))\n",
    "                m[y][x] = -1    # mark as seen\n",
    "\n",
    "#m = np.genfromtxt('input.txt', dtype=int, delimiter=1) - 1\n",
    "m = np.genfromtxt(lines,delimiter=1,dtype=int)-1\n",
    "print(search(m.copy()))\n",
    "m = np.concatenate([m+i for i in range(5)], axis=0)\n",
    "m = np.concatenate([m+i for i in range(5)], axis=1)\n",
    "print(search(m))"
   ]
  },
  {
   "cell_type": "code",
   "execution_count": null,
   "id": "e8a9c81e",
   "metadata": {},
   "outputs": [],
   "source": []
  },
  {
   "cell_type": "code",
   "execution_count": null,
   "id": "7675305e",
   "metadata": {},
   "outputs": [],
   "source": []
  }
 ],
 "metadata": {
  "kernelspec": {
   "display_name": "Python 3",
   "language": "python",
   "name": "python3"
  },
  "language_info": {
   "codemirror_mode": {
    "name": "ipython",
    "version": 3
   },
   "file_extension": ".py",
   "mimetype": "text/x-python",
   "name": "python",
   "nbconvert_exporter": "python",
   "pygments_lexer": "ipython3",
   "version": "3.8.8"
  }
 },
 "nbformat": 4,
 "nbformat_minor": 5
}
