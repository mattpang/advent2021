{
 "cells": [
  {
   "cell_type": "code",
   "execution_count": 35,
   "id": "93ac600b",
   "metadata": {},
   "outputs": [],
   "source": [
    "lines = '''00100\n",
    "11110\n",
    "10110\n",
    "10111\n",
    "10101\n",
    "01111\n",
    "00111\n",
    "11100\n",
    "10000\n",
    "11001\n",
    "00010\n",
    "01010'''"
   ]
  },
  {
   "cell_type": "code",
   "execution_count": 49,
   "id": "2efb8994",
   "metadata": {},
   "outputs": [],
   "source": [
    "lines=open('input.txt','r').read()"
   ]
  },
  {
   "cell_type": "code",
   "execution_count": 36,
   "id": "b4b9de11",
   "metadata": {},
   "outputs": [
    {
     "data": {
      "text/plain": [
       "['00100',\n",
       " '11110',\n",
       " '10110',\n",
       " '10111',\n",
       " '10101',\n",
       " '01111',\n",
       " '00111',\n",
       " '11100',\n",
       " '10000',\n",
       " '11001',\n",
       " '00010',\n",
       " '01010']"
      ]
     },
     "execution_count": 36,
     "metadata": {},
     "output_type": "execute_result"
    }
   ],
   "source": [
    "vals = lines.split('\\n')\n",
    "vals"
   ]
  },
  {
   "cell_type": "code",
   "execution_count": 27,
   "id": "572e5d1d",
   "metadata": {},
   "outputs": [
    {
     "data": {
      "text/plain": [
       "12"
      ]
     },
     "execution_count": 27,
     "metadata": {},
     "output_type": "execute_result"
    }
   ],
   "source": [
    "columns = len(vals[0])\n",
    "columns"
   ]
  },
  {
   "cell_type": "code",
   "execution_count": 32,
   "id": "c9b1e44c",
   "metadata": {},
   "outputs": [],
   "source": [
    "#most common bit. \n",
    "from collections import Counter\n",
    "tally = Counter()\n",
    "for c in vals:\n",
    "    for pos,v in enumerate(c):\n",
    "        if v=='1':\n",
    "            tally[pos]+=1\n",
    "            "
   ]
  },
  {
   "cell_type": "code",
   "execution_count": 29,
   "id": "6b7a647c",
   "metadata": {},
   "outputs": [
    {
     "data": {
      "text/plain": [
       "(3903, 192, 749376)"
      ]
     },
     "execution_count": 29,
     "metadata": {},
     "output_type": "execute_result"
    }
   ],
   "source": [
    "len(vals)\n",
    "gamma = 0\n",
    "eps = 0\n",
    "for i in range(columns):\n",
    "    if tally[i]>=len(vals)//2:\n",
    "        gamma+=2**(columns-1-i)\n",
    "    else:\n",
    "        eps+=2**(columns-1-i)\n",
    "    \n",
    "gamma,eps,gamma*eps"
   ]
  },
  {
   "cell_type": "code",
   "execution_count": 10,
   "id": "3e5e7e81",
   "metadata": {},
   "outputs": [
    {
     "data": {
      "text/plain": [
       "Counter({2: 8, 0: 7, 1: 5, 3: 7, 4: 5})"
      ]
     },
     "execution_count": 10,
     "metadata": {},
     "output_type": "execute_result"
    }
   ],
   "source": [
    "tally"
   ]
  },
  {
   "cell_type": "code",
   "execution_count": 54,
   "id": "051174e7",
   "metadata": {},
   "outputs": [
    {
     "data": {
      "text/plain": [
       "12"
      ]
     },
     "execution_count": 54,
     "metadata": {},
     "output_type": "execute_result"
    }
   ],
   "source": [
    "lines=open('input.txt','r').read()\n",
    "vals = lines.split('\\n')\n",
    "\n",
    "len(vals[0])"
   ]
  },
  {
   "cell_type": "code",
   "execution_count": 57,
   "id": "0838d229",
   "metadata": {},
   "outputs": [
    {
     "name": "stdout",
     "output_type": "stream",
     "text": [
      "['111100011111']\n"
     ]
    },
    {
     "data": {
      "text/plain": [
       "3871"
      ]
     },
     "execution_count": 57,
     "metadata": {},
     "output_type": "execute_result"
    }
   ],
   "source": [
    "#most common bit. \n",
    "from collections import Counter\n",
    "\n",
    "\n",
    "lines = '''00100\n",
    "11110\n",
    "10110\n",
    "10111\n",
    "10101\n",
    "01111\n",
    "00111\n",
    "11100\n",
    "10000\n",
    "11001\n",
    "00010\n",
    "01010'''\n",
    "\n",
    "lines=open('input.txt','r').read()[:-1]\n",
    "vals = lines.split('\\n')\n",
    "\n",
    "\n",
    "position = 0\n",
    "total_len = len(vals)\n",
    "columns = len(vals[0])\n",
    "\n",
    "for n in range(columns):\n",
    "    Ocounts = Counter()\n",
    "    list0 = []\n",
    "    list1 = []\n",
    "    for c in vals:\n",
    "        Ocounts[c[position]] +=1\n",
    "        if c[position]=='0':\n",
    "            list0.append(c)\n",
    "        else:\n",
    "            list1.append(c)\n",
    "\n",
    "    if Ocounts['1']>=Ocounts['0']:\n",
    "        #keep all lines with 1 in pos 1\n",
    "        vals = list1\n",
    "    else:\n",
    "        vals = list0\n",
    "        \n",
    "    if len(vals) == 1:\n",
    "        break\n",
    "    #print(vals)\n",
    "    position +=1\n",
    "print(vals)\n",
    "\n",
    "oxygen=0\n",
    "for i,v in enumerate(vals[0]):\n",
    "    if v == '1':\n",
    "        oxygen+=2**(columns-1-i)\n",
    "oxygen"
   ]
  },
  {
   "cell_type": "code",
   "execution_count": 59,
   "id": "0003ef41",
   "metadata": {},
   "outputs": [
    {
     "name": "stdout",
     "output_type": "stream",
     "text": [
      "['001001100101']\n"
     ]
    },
    {
     "data": {
      "text/plain": [
       "613"
      ]
     },
     "execution_count": 59,
     "metadata": {},
     "output_type": "execute_result"
    }
   ],
   "source": [
    "#most common bit. \n",
    "from collections import Counter\n",
    "\n",
    "\n",
    "lines = '''00100\n",
    "11110\n",
    "10110\n",
    "10111\n",
    "10101\n",
    "01111\n",
    "00111\n",
    "11100\n",
    "10000\n",
    "11001\n",
    "00010\n",
    "01010'''\n",
    "\n",
    "lines=open('input.txt','r').read()[:-1]\n",
    "vals = lines.split('\\n')\n",
    "\n",
    "\n",
    "position = 0\n",
    "total_len = len(vals)\n",
    "columns = len(vals[0])\n",
    "\n",
    "for n in range(columns):\n",
    "    Ocounts = Counter()\n",
    "    list0 = []\n",
    "    list1 = []\n",
    "    for c in vals:\n",
    "        Ocounts[c[position]] +=1\n",
    "        if c[position]=='0':\n",
    "            list0.append(c)\n",
    "        else:\n",
    "            list1.append(c)\n",
    "\n",
    "    if Ocounts['0']<=Ocounts['1']:\n",
    "        #keep all lines with 1 in pos 1\n",
    "        vals = list0\n",
    "    else:\n",
    "        vals = list1\n",
    "        \n",
    "    if len(vals) == 1:\n",
    "        break\n",
    "    #print(vals)\n",
    "    position +=1\n",
    "print(vals)\n",
    "\n",
    "co2=0\n",
    "for i,v in enumerate(vals[0]):\n",
    "    if v == '1':\n",
    "        co2+=2**(columns-1-i)\n",
    "co2"
   ]
  },
  {
   "cell_type": "code",
   "execution_count": 60,
   "id": "d585204e",
   "metadata": {},
   "outputs": [
    {
     "data": {
      "text/plain": [
       "2372923"
      ]
     },
     "execution_count": 60,
     "metadata": {},
     "output_type": "execute_result"
    }
   ],
   "source": [
    "oxygen*co2"
   ]
  },
  {
   "cell_type": "code",
   "execution_count": null,
   "id": "b312638b",
   "metadata": {},
   "outputs": [],
   "source": []
  }
 ],
 "metadata": {
  "kernelspec": {
   "display_name": "Python 3",
   "language": "python",
   "name": "python3"
  },
  "language_info": {
   "codemirror_mode": {
    "name": "ipython",
    "version": 3
   },
   "file_extension": ".py",
   "mimetype": "text/x-python",
   "name": "python",
   "nbconvert_exporter": "python",
   "pygments_lexer": "ipython3",
   "version": "3.8.8"
  }
 },
 "nbformat": 4,
 "nbformat_minor": 5
}
