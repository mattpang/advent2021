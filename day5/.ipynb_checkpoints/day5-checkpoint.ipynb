{
 "cells": [
  {
   "cell_type": "code",
   "execution_count": 113,
   "id": "e1cb9136",
   "metadata": {},
   "outputs": [
    {
     "data": {
      "text/plain": [
       "['0,9 -> 5,9',\n",
       " '8,0 -> 0,8',\n",
       " '9,4 -> 3,4',\n",
       " '2,2 -> 2,1',\n",
       " '7,0 -> 7,4',\n",
       " '6,4 -> 2,0',\n",
       " '0,9 -> 2,9',\n",
       " '3,4 -> 1,4',\n",
       " '0,0 -> 8,8',\n",
       " '5,5 -> 8,2']"
      ]
     },
     "execution_count": 113,
     "metadata": {},
     "output_type": "execute_result"
    }
   ],
   "source": [
    "lines = '''0,9 -> 5,9\n",
    "8,0 -> 0,8\n",
    "9,4 -> 3,4\n",
    "2,2 -> 2,1\n",
    "7,0 -> 7,4\n",
    "6,4 -> 2,0\n",
    "0,9 -> 2,9\n",
    "3,4 -> 1,4\n",
    "0,0 -> 8,8\n",
    "5,5 -> 8,2\n",
    "'''.split('\\n')[:-1]\n",
    "lines"
   ]
  },
  {
   "cell_type": "code",
   "execution_count": 103,
   "id": "f5a0835f",
   "metadata": {},
   "outputs": [],
   "source": [
    "lines = open('input.txt','r').read().split('\\n')[:-1]"
   ]
  },
  {
   "cell_type": "code",
   "execution_count": 106,
   "id": "41855440",
   "metadata": {},
   "outputs": [],
   "source": [
    "import numpy as np\n",
    "z = 1000\n",
    "grid = np.zeros(shape=(z,z))\n",
    "for line in lines:\n",
    "    l,r = line.split(' -> ')\n",
    "    fromx,fromy = map(int,l.split(','))\n",
    "    tox,toy = map(int,r.split(','))\n",
    "    min_x = min(fromx,tox)\n",
    "    max_x = max(fromx,tox)\n",
    "    min_y = min(fromy,toy)\n",
    "    max_y = max(fromy,toy)\n",
    "\n",
    "    if (fromx==tox):\n",
    "        grid[min_y:max_y+1,max_x] +=1\n",
    "        \n",
    "    elif (fromy==toy):\n",
    "        grid[max_y,min_x:max_x+1] +=1\n",
    "\n",
    "\n",
    "    \n",
    "#     for y in range(fromy,toy+1):\n",
    "#         grid[fromx:tox,y] +=1"
   ]
  },
  {
   "cell_type": "code",
   "execution_count": 107,
   "id": "80c8ec1f",
   "metadata": {},
   "outputs": [
    {
     "data": {
      "text/plain": [
       "array([[0., 0., 0., ..., 0., 0., 0.],\n",
       "       [0., 0., 0., ..., 0., 0., 0.],\n",
       "       [0., 0., 0., ..., 0., 0., 0.],\n",
       "       ...,\n",
       "       [0., 0., 0., ..., 0., 0., 0.],\n",
       "       [0., 0., 0., ..., 0., 0., 0.],\n",
       "       [0., 0., 0., ..., 0., 0., 0.]])"
      ]
     },
     "execution_count": 107,
     "metadata": {},
     "output_type": "execute_result"
    }
   ],
   "source": [
    "grid"
   ]
  },
  {
   "cell_type": "code",
   "execution_count": 108,
   "id": "0166aa50",
   "metadata": {},
   "outputs": [
    {
     "data": {
      "text/plain": [
       "5835"
      ]
     },
     "execution_count": 108,
     "metadata": {},
     "output_type": "execute_result"
    }
   ],
   "source": [
    "(grid>1).sum()"
   ]
  },
  {
   "cell_type": "code",
   "execution_count": 177,
   "id": "af9e155b",
   "metadata": {},
   "outputs": [],
   "source": [
    "lines = open('input.txt','r').read().split('\\n')[:-1]"
   ]
  },
  {
   "cell_type": "code",
   "execution_count": 178,
   "id": "f4a439b9",
   "metadata": {},
   "outputs": [
    {
     "data": {
      "text/plain": [
       "17013"
      ]
     },
     "execution_count": 178,
     "metadata": {},
     "output_type": "execute_result"
    }
   ],
   "source": [
    "import numpy as np\n",
    "z = 1000\n",
    "grid = np.zeros(shape=(z,z))\n",
    "for line in lines:\n",
    "    l,r = line.split(' -> ')\n",
    "    fromx,fromy = map(int,l.split(','))\n",
    "    tox,toy = map(int,r.split(','))\n",
    "    min_x = min(fromx,tox)\n",
    "    max_x = max(fromx,tox)\n",
    "    min_y = min(fromy,toy)\n",
    "    max_y = max(fromy,toy)\n",
    "\n",
    "    if (fromx==tox):\n",
    "        grid[min_y:max_y+1,max_x] +=1\n",
    "        \n",
    "    elif (fromy==toy):\n",
    "        grid[max_y,min_x:max_x+1] +=1\n",
    "\n",
    "    else:\n",
    "        #add the diagonal lines. 12 for example answer\n",
    "        # loop x,y to new x,y sub 1 each time. \n",
    "        #print(line,min_y,fromx,tox)\n",
    "        \n",
    "        if fromy>=toy:\n",
    "            delta =-1\n",
    "        else:\n",
    "            delta = +1\n",
    "        \n",
    "        if fromx>tox:\n",
    "            step=-1\n",
    "            extra=-1\n",
    "        else:\n",
    "            step=1\n",
    "            extra=1\n",
    "        \n",
    "        y=fromy\n",
    "        for x in range(fromx,tox+extra,step):\n",
    "            #print(line,x,y,extra)\n",
    "            grid[y,x]+=1\n",
    "            y+=delta\n",
    "#     for y in range(fromy,toy+1):\n",
    "#         grid[fromx:tox,y] +\n",
    "\n",
    "(grid>1).sum()"
   ]
  },
  {
   "cell_type": "code",
   "execution_count": 170,
   "id": "b38983e1",
   "metadata": {},
   "outputs": [
    {
     "data": {
      "text/plain": [
       "[8, 7, 6, 5, 4, 3, 2, 1, 0]"
      ]
     },
     "execution_count": 170,
     "metadata": {},
     "output_type": "execute_result"
    }
   ],
   "source": [
    "list(range(8,0-1,-1))"
   ]
  },
  {
   "cell_type": "code",
   "execution_count": 158,
   "id": "b4f82b02",
   "metadata": {},
   "outputs": [
    {
     "data": {
      "text/plain": [
       "[5, 6, 7]"
      ]
     },
     "execution_count": 158,
     "metadata": {},
     "output_type": "execute_result"
    }
   ],
   "source": [
    "list(range(fromx,tox))"
   ]
  },
  {
   "cell_type": "code",
   "execution_count": 159,
   "id": "1ae7e877",
   "metadata": {},
   "outputs": [
    {
     "data": {
      "text/plain": [
       "[8, 7, 6]"
      ]
     },
     "execution_count": 159,
     "metadata": {},
     "output_type": "execute_result"
    }
   ],
   "source": [
    "list(range(8,5,-1))"
   ]
  },
  {
   "cell_type": "code",
   "execution_count": 176,
   "id": "f7bd51bf",
   "metadata": {},
   "outputs": [
    {
     "data": {
      "text/plain": [
       "array([[1., 0., 1., 0., 0., 0., 0., 1., 1., 0.],\n",
       "       [0., 1., 1., 1., 0., 0., 0., 2., 0., 0.],\n",
       "       [0., 0., 2., 0., 1., 0., 1., 1., 1., 0.],\n",
       "       [0., 0., 0., 1., 0., 2., 0., 2., 0., 0.],\n",
       "       [0., 1., 1., 2., 3., 1., 3., 2., 1., 1.],\n",
       "       [0., 0., 0., 1., 0., 2., 0., 0., 0., 0.],\n",
       "       [0., 0., 1., 0., 0., 0., 1., 0., 0., 0.],\n",
       "       [0., 1., 0., 0., 0., 0., 0., 1., 0., 0.],\n",
       "       [1., 0., 0., 0., 0., 0., 0., 0., 1., 0.],\n",
       "       [2., 2., 2., 1., 1., 1., 0., 0., 0., 0.]])"
      ]
     },
     "execution_count": 176,
     "metadata": {},
     "output_type": "execute_result"
    }
   ],
   "source": [
    "grid"
   ]
  },
  {
   "cell_type": "code",
   "execution_count": 119,
   "id": "bab87b16",
   "metadata": {},
   "outputs": [
    {
     "ename": "SyntaxError",
     "evalue": "invalid syntax (<ipython-input-119-1e1964455249>, line 1)",
     "output_type": "error",
     "traceback": [
      "\u001b[0;36m  File \u001b[0;32m\"<ipython-input-119-1e1964455249>\"\u001b[0;36m, line \u001b[0;32m1\u001b[0m\n\u001b[0;31m    1.1....11.\u001b[0m\n\u001b[0m       ^\u001b[0m\n\u001b[0;31mSyntaxError\u001b[0m\u001b[0;31m:\u001b[0m invalid syntax\n"
     ]
    }
   ],
   "source": [
    "1.1....11.\n",
    ".111...2..\n",
    "..2.1.111.\n",
    "...1.2.2..\n",
    ".112313211\n",
    "...1.2....\n",
    "..1...1...\n",
    ".1.....1..\n",
    "1.......1.\n",
    "222111...."
   ]
  },
  {
   "cell_type": "code",
   "execution_count": null,
   "id": "5828fb82",
   "metadata": {},
   "outputs": [],
   "source": []
  }
 ],
 "metadata": {
  "kernelspec": {
   "display_name": "Python 3",
   "language": "python",
   "name": "python3"
  },
  "language_info": {
   "codemirror_mode": {
    "name": "ipython",
    "version": 3
   },
   "file_extension": ".py",
   "mimetype": "text/x-python",
   "name": "python",
   "nbconvert_exporter": "python",
   "pygments_lexer": "ipython3",
   "version": "3.8.8"
  }
 },
 "nbformat": 4,
 "nbformat_minor": 5
}
