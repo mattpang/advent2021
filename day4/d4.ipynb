{
 "cells": [
  {
   "cell_type": "code",
   "execution_count": 181,
   "id": "69dc0f74",
   "metadata": {},
   "outputs": [],
   "source": [
    "source = '''7,4,9,5,11,17,23,2,0,14,21,24,10,16,13,6,15,25,12,22,18,20,8,19,3,26,1\n",
    "\n",
    "22 13 17 11  0\n",
    " 8  2 23  4 24\n",
    "21  9 14 16  7\n",
    " 6 10  3 18  5\n",
    " 1 12 20 15 19\n",
    "\n",
    " 3 15  0  2 22\n",
    " 9 18 13 17  5\n",
    "19  8  7 25 23\n",
    "20 11 10 24  4\n",
    "14 21 16 12  6\n",
    "\n",
    "14 21 17 24  4\n",
    "10 16 15  9 19\n",
    "18  8 23 26 20\n",
    "22 11 13  6  5\n",
    " 2  0 12  3  7'''"
   ]
  },
  {
   "cell_type": "code",
   "execution_count": 105,
   "id": "af7b2bce",
   "metadata": {},
   "outputs": [],
   "source": [
    "f=open('input.txt','r')\n",
    "lines= f.read().split('\\n')[:-1]"
   ]
  },
  {
   "cell_type": "code",
   "execution_count": 190,
   "id": "7060a407",
   "metadata": {},
   "outputs": [],
   "source": [
    "lines = source.split('\\n')\n",
    "\n",
    "f=open('input.txt','r')\n",
    "lines= f.read().split('\\n')[:-1]\n",
    "\n",
    "nums = list(map(int,lines[0].split(',')))\n",
    "#nums\n",
    "bcount = 0 \n",
    "import numpy as np\n",
    "scoreboards = dict()\n",
    "totalboards = (len(lines)-2)//6 +1\n",
    "nboard = np.zeros(shape=(totalboards,5,5))\n",
    "yline=0\n",
    "for l in  lines[2:]:\n",
    "    if l =='':\n",
    "        bcount+=1\n",
    "        yline=0\n",
    "    else:\n",
    "        for xpos,x in enumerate(l.strip().replace('  ',' ').split(' ')):\n",
    "            #print(xpos,x,yline,bcount)\n",
    "            nboard[bcount][yline][xpos] = int(x)\n",
    "        yline+=1\n",
    "    "
   ]
  },
  {
   "cell_type": "code",
   "execution_count": 191,
   "id": "9a123fa5",
   "metadata": {},
   "outputs": [
    {
     "data": {
      "text/plain": [
       "array([[[78., 13.,  8., 62., 67.],\n",
       "        [42., 89., 97., 16., 65.],\n",
       "        [ 5., 12., 73., 50., 56.],\n",
       "        [45., 10., 63., 41., 64.],\n",
       "        [49.,  1., 95., 71., 17.]],\n",
       "\n",
       "       [[60., 25., 66., 82., 22.],\n",
       "        [94., 45., 68.,  5., 12.],\n",
       "        [46., 44., 48., 31., 34.],\n",
       "        [10., 56., 37., 96., 81.],\n",
       "        [99., 39., 84., 32.,  6.]],\n",
       "\n",
       "       [[11., 86., 77., 36.,  2.],\n",
       "        [57., 68., 27., 74.,  4.],\n",
       "        [81., 92., 49., 37., 51.],\n",
       "        [78., 43., 94., 46., 63.],\n",
       "        [13., 52., 72., 17., 44.]],\n",
       "\n",
       "       ...,\n",
       "\n",
       "       [[ 1., 54., 88., 45., 90.],\n",
       "        [81., 78., 19.,  8., 40.],\n",
       "        [17., 74., 69., 87., 33.],\n",
       "        [ 9., 64., 85., 50., 71.],\n",
       "        [92., 38., 65., 82., 41.]],\n",
       "\n",
       "       [[ 2., 62., 96., 60., 81.],\n",
       "        [51.,  1., 34., 48., 25.],\n",
       "        [78., 13., 74., 65., 42.],\n",
       "        [46., 64., 57., 19., 72.],\n",
       "        [85., 88., 53., 68., 76.]],\n",
       "\n",
       "       [[57., 95., 40., 92., 27.],\n",
       "        [65., 37., 42., 90.,  9.],\n",
       "        [17., 72., 78., 43., 45.],\n",
       "        [87., 28., 48., 81., 79.],\n",
       "        [ 7.,  4., 24., 67., 70.]]])"
      ]
     },
     "execution_count": 191,
     "metadata": {},
     "output_type": "execute_result"
    }
   ],
   "source": [
    "nboard"
   ]
  },
  {
   "cell_type": "code",
   "execution_count": 192,
   "id": "cd165aa7",
   "metadata": {},
   "outputs": [
    {
     "data": {
      "text/plain": [
       "100"
      ]
     },
     "execution_count": 192,
     "metadata": {},
     "output_type": "execute_result"
    }
   ],
   "source": [
    "overall = np.zeros(shape=(totalboards,5,5))\n",
    "len(overall)"
   ]
  },
  {
   "cell_type": "code",
   "execution_count": 193,
   "id": "4b313c09",
   "metadata": {},
   "outputs": [
    {
     "name": "stdout",
     "output_type": "stream",
     "text": [
      "94\n"
     ]
    }
   ],
   "source": [
    "winner = None\n",
    "overall = np.zeros(shape=(totalboards,5,5))\n",
    "\n",
    "\n",
    "for n in nums:\n",
    "    overall+=nboard==n\n",
    "    for b in range(totalboards):\n",
    "        if (5 in overall[b].sum(axis=0)) or (5 in overall[b].sum(axis=1)):\n",
    "            print(b)\n",
    "            winner = b\n",
    "    if winner != None:\n",
    "        break\n",
    "int(nboard[winner][overall[winner]==0].sum()*n)\n",
    "\n",
    "lastwinner = winner\n"
   ]
  },
  {
   "cell_type": "code",
   "execution_count": 194,
   "id": "86da8926",
   "metadata": {},
   "outputs": [
    {
     "ename": "TypeError",
     "evalue": "'int' object is not iterable",
     "output_type": "error",
     "traceback": [
      "\u001b[0;31m---------------------------------------------------------------------------\u001b[0m",
      "\u001b[0;31mTypeError\u001b[0m                                 Traceback (most recent call last)",
      "\u001b[0;32m<ipython-input-194-7564808dba0f>\u001b[0m in \u001b[0;36m<module>\u001b[0;34m\u001b[0m\n\u001b[1;32m      3\u001b[0m \u001b[0;34m\u001b[0m\u001b[0m\n\u001b[1;32m      4\u001b[0m \u001b[0;32mfor\u001b[0m \u001b[0mnindex\u001b[0m\u001b[0;34m,\u001b[0m\u001b[0mn\u001b[0m \u001b[0;32min\u001b[0m \u001b[0menumerate\u001b[0m\u001b[0;34m(\u001b[0m\u001b[0mnums\u001b[0m\u001b[0;34m)\u001b[0m\u001b[0;34m:\u001b[0m\u001b[0;34m\u001b[0m\u001b[0;34m\u001b[0m\u001b[0m\n\u001b[0;32m----> 5\u001b[0;31m     \u001b[0;32mfor\u001b[0m \u001b[0mb\u001b[0m \u001b[0;32min\u001b[0m \u001b[0mlen\u001b[0m\u001b[0;34m(\u001b[0m\u001b[0moverall\u001b[0m\u001b[0;34m)\u001b[0m\u001b[0;34m:\u001b[0m\u001b[0;34m\u001b[0m\u001b[0;34m\u001b[0m\u001b[0m\n\u001b[0m\u001b[1;32m      6\u001b[0m         \u001b[0moverall\u001b[0m\u001b[0;34m+=\u001b[0m\u001b[0mnboard\u001b[0m\u001b[0;34m==\u001b[0m\u001b[0mn\u001b[0m\u001b[0;34m\u001b[0m\u001b[0;34m\u001b[0m\u001b[0m\n\u001b[1;32m      7\u001b[0m \u001b[0;34m\u001b[0m\u001b[0m\n",
      "\u001b[0;31mTypeError\u001b[0m: 'int' object is not iterable"
     ]
    }
   ],
   "source": [
    "winners = []\n",
    "overall = np.zeros(shape=(totalboards,5,5))\n",
    "\n",
    "for nindex,n in enumerate(nums): \n",
    "    for b in len(overall):\n",
    "        overall+=nboard==n\n",
    "        \n",
    "        if (5 in overall[b].sum(axis=0)) or (5 in overall[b].sum(axis=1)):\n",
    "            winners.append((nindex,n,b))\n"
   ]
  },
  {
   "cell_type": "code",
   "execution_count": 195,
   "id": "7e864927",
   "metadata": {},
   "outputs": [],
   "source": [
    "winner = None\n",
    "overall = np.zeros(shape=(totalboards,5,5))\n",
    "wonat= dict()\n",
    "b=0\n",
    "\n",
    "for npos,n in enumerate(nums):\n",
    "    #print(n)\n",
    "    overall+=nboard==n\n",
    "    for b in range(totalboards):\n",
    "        if (5 in overall[b].sum(axis=0)) or (5 in overall[b].sum(axis=1)):\n",
    "            #print(b)\n",
    "            if b not in wonat.keys():\n",
    "                wonat[b]=npos\n"
   ]
  },
  {
   "cell_type": "code",
   "execution_count": 196,
   "id": "1b8ce87a",
   "metadata": {},
   "outputs": [
    {
     "data": {
      "text/plain": [
       "array([[1., 1., 1., 1., 1.],\n",
       "       [1., 1., 1., 1., 1.],\n",
       "       [1., 1., 1., 1., 1.],\n",
       "       [1., 1., 1., 1., 1.],\n",
       "       [1., 1., 1., 1., 1.]])"
      ]
     },
     "execution_count": 196,
     "metadata": {},
     "output_type": "execute_result"
    }
   ],
   "source": [
    "overall[1]"
   ]
  },
  {
   "cell_type": "code",
   "execution_count": 197,
   "id": "1dc80aeb",
   "metadata": {},
   "outputs": [
    {
     "data": {
      "text/plain": [
       "(93, 20, 84)"
      ]
     },
     "execution_count": 197,
     "metadata": {},
     "output_type": "execute_result"
    }
   ],
   "source": [
    "biggest = 0\n",
    "for k,v in  wonat.items():\n",
    "    #print(k,nums[v])\n",
    "    if v> biggest:\n",
    "        lastpos = v\n",
    "        lastwiningnum = nums[v]\n",
    "        lastboard = k\n",
    "        \n",
    "lastboard,lastwiningnum,lastpos"
   ]
  },
  {
   "cell_type": "code",
   "execution_count": 198,
   "id": "35e5610a",
   "metadata": {},
   "outputs": [
    {
     "data": {
      "text/plain": [
       "9020"
      ]
     },
     "execution_count": 198,
     "metadata": {},
     "output_type": "execute_result"
    }
   ],
   "source": [
    "winner = None\n",
    "overall = np.zeros(shape=(totalboards,5,5))\n",
    "\n",
    "\n",
    "for n in nums[0:lastpos+1]:\n",
    "    \n",
    "    overall+=nboard==n\n",
    "    for b in range(totalboards):\n",
    "        if (5 in overall[b].sum(axis=0)) or (5 in overall[b].sum(axis=1)):\n",
    "            #print(b)\n",
    "            winner = b\n",
    "int(nboard[lastboard][overall[lastboard]==0].sum()*n)\n"
   ]
  },
  {
   "cell_type": "markdown",
   "id": "d966cdb1",
   "metadata": {},
   "source": [
    "winner = None\n",
    "overall = np.zeros(shape=(totalboards,5,5))\n",
    "wonat= dict()\n",
    "b=0\n",
    "\n",
    "for npos,n in enumerate(nums):\n",
    "    #print(n)\n",
    "    overall+=nboard==n\n",
    "    for b in range(totalboards):\n",
    "        if (5 in overall[b].sum(axis=0)) or (5 in overall[b].sum(axis=1)):\n",
    "            #print(b)\n",
    "            if b not in wonat.keys():\n",
    "                wonat[b]=npos\n",
    "\n"
   ]
  },
  {
   "cell_type": "code",
   "execution_count": 117,
   "id": "ba9f273e",
   "metadata": {},
   "outputs": [
    {
     "data": {
      "text/plain": [
       "99"
      ]
     },
     "execution_count": 117,
     "metadata": {},
     "output_type": "execute_result"
    }
   ],
   "source": [
    "wonat[-1]"
   ]
  },
  {
   "cell_type": "code",
   "execution_count": 116,
   "id": "1ed611a8",
   "metadata": {},
   "outputs": [
    {
     "data": {
      "text/plain": [
       "array([[1., 1., 1., 1., 1.],\n",
       "       [1., 1., 1., 1., 1.],\n",
       "       [1., 1., 1., 1., 1.],\n",
       "       [1., 1., 1., 1., 1.],\n",
       "       [1., 1., 1., 1., 1.]])"
      ]
     },
     "execution_count": 116,
     "metadata": {},
     "output_type": "execute_result"
    }
   ],
   "source": [
    "overall[wonat[-2]]"
   ]
  },
  {
   "cell_type": "code",
   "execution_count": 78,
   "id": "b8f3a357",
   "metadata": {},
   "outputs": [
    {
     "data": {
      "text/plain": [
       "array([[[0., 0., 0., 1., 0.],\n",
       "        [0., 0., 0., 1., 0.],\n",
       "        [0., 1., 0., 0., 1.],\n",
       "        [0., 0., 0., 0., 1.],\n",
       "        [0., 0., 0., 0., 0.]],\n",
       "\n",
       "       [[0., 0., 0., 0., 0.],\n",
       "        [1., 0., 0., 0., 1.],\n",
       "        [0., 0., 1., 0., 0.],\n",
       "        [0., 1., 0., 0., 1.],\n",
       "        [0., 0., 0., 0., 0.]],\n",
       "\n",
       "       [[0., 0., 0., 0., 1.],\n",
       "        [0., 0., 0., 1., 0.],\n",
       "        [0., 0., 0., 0., 0.],\n",
       "        [0., 1., 0., 0., 1.],\n",
       "        [0., 0., 0., 0., 1.]]])"
      ]
     },
     "execution_count": 78,
     "metadata": {},
     "output_type": "execute_result"
    }
   ],
   "source": [
    "overall"
   ]
  },
  {
   "cell_type": "code",
   "execution_count": null,
   "id": "8c0e389e",
   "metadata": {},
   "outputs": [],
   "source": []
  }
 ],
 "metadata": {
  "kernelspec": {
   "display_name": "Python 3",
   "language": "python",
   "name": "python3"
  },
  "language_info": {
   "codemirror_mode": {
    "name": "ipython",
    "version": 3
   },
   "file_extension": ".py",
   "mimetype": "text/x-python",
   "name": "python",
   "nbconvert_exporter": "python",
   "pygments_lexer": "ipython3",
   "version": "3.8.8"
  }
 },
 "nbformat": 4,
 "nbformat_minor": 5
}
