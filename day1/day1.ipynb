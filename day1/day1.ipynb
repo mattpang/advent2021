{
 "cells": [
  {
   "cell_type": "code",
   "execution_count": 37,
   "id": "3f7e22ab",
   "metadata": {},
   "outputs": [],
   "source": [
    "f = open('./input.txt','r')\n",
    "lines = f.read().split('\\n')[0:-1]"
   ]
  },
  {
   "cell_type": "code",
   "execution_count": 27,
   "id": "05a754b2",
   "metadata": {},
   "outputs": [],
   "source": [
    "mmm = '''199\n",
    "200\n",
    "208\n",
    "210\n",
    "200\n",
    "207\n",
    "240\n",
    "269\n",
    "260\n",
    "263\n",
    "'''\n",
    "lines = mmm.split('\\n')[0:-1]"
   ]
  },
  {
   "cell_type": "code",
   "execution_count": 38,
   "id": "8459aac1",
   "metadata": {},
   "outputs": [],
   "source": [
    "measurements = list(map(int,lines))"
   ]
  },
  {
   "cell_type": "code",
   "execution_count": 22,
   "id": "8a2ad907",
   "metadata": {},
   "outputs": [
    {
     "data": {
      "text/plain": [
       "1602"
      ]
     },
     "execution_count": 22,
     "metadata": {},
     "output_type": "execute_result"
    }
   ],
   "source": [
    "lastm = measurements[0]\n",
    "tally=0\n",
    "for m in measurements:\n",
    "    if lastm < m:\n",
    "        tally+=1\n",
    "    lastm=m\n",
    "tally"
   ]
  },
  {
   "cell_type": "code",
   "execution_count": 39,
   "id": "1c8fcaf6",
   "metadata": {},
   "outputs": [
    {
     "data": {
      "text/plain": [
       "1633"
      ]
     },
     "execution_count": 39,
     "metadata": {},
     "output_type": "execute_result"
    }
   ],
   "source": [
    "#part 2 has a 3 value sliding window.\n",
    "store=[]\n",
    "for a,b,c in zip(measurements,measurements[1:],measurements[2:]):\n",
    "    s = a+b+c\n",
    "    store.append(s)\n",
    "    \n",
    "store\n",
    "\n",
    "lastm = store[0]\n",
    "tally=0\n",
    "for m in store:\n",
    "    if lastm < m:\n",
    "        tally+=1\n",
    "    lastm=m\n",
    "tally"
   ]
  },
  {
   "cell_type": "code",
   "execution_count": null,
   "id": "e9587f75",
   "metadata": {},
   "outputs": [],
   "source": [
    "A: 607 (N/A - no previous sum)\n",
    "B: 618 (increased)\n",
    "C: 618 (no change)\n",
    "D: 617 (decreased)\n",
    "E: 647 (increased)\n",
    "F: 716 (increased)\n",
    "G: 769 (increased)\n",
    "H: 792 (increased)"
   ]
  },
  {
   "cell_type": "code",
   "execution_count": null,
   "id": "297bbd7f",
   "metadata": {},
   "outputs": [],
   "source": [
    "lastm = measurements[0]\n",
    "tally=0\n",
    "for m in measurements:\n",
    "    if lastm < m:\n",
    "        tally+=1\n",
    "    lastm=m\n",
    "tally"
   ]
  }
 ],
 "metadata": {
  "kernelspec": {
   "display_name": "Python 3",
   "language": "python",
   "name": "python3"
  },
  "language_info": {
   "codemirror_mode": {
    "name": "ipython",
    "version": 3
   },
   "file_extension": ".py",
   "mimetype": "text/x-python",
   "name": "python",
   "nbconvert_exporter": "python",
   "pygments_lexer": "ipython3",
   "version": "3.8.8"
  }
 },
 "nbformat": 4,
 "nbformat_minor": 5
}
