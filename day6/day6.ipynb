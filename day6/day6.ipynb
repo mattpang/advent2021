{
 "cells": [
  {
   "cell_type": "code",
   "execution_count": 1,
   "id": "a2a2cc59",
   "metadata": {},
   "outputs": [],
   "source": [
    "fish = map(int,'3,4,3,1,2'.split(','))\n",
    "#after 80 days 5934 fish"
   ]
  },
  {
   "cell_type": "code",
   "execution_count": null,
   "id": "1feec8fe",
   "metadata": {},
   "outputs": [],
   "source": [
    "Initial state: 3,4,3,1,2\n",
    "After  1 day:  2,3,2,0,1\n",
    "After  2 days: 1,2,1,6,0,8\n",
    "After  3 days: 0,1,0,5,6,7,8\n",
    "After  4 days: 6,0,6,4,5,6,7,8,8\n",
    "After  5 days: 5,6,5,3,4,5,6,7,7,8\n",
    "After  6 days: 4,5,4,2,3,4,5,6,6,7\n",
    "After  7 days: 3,4,3,1,2,3,4,5,5,6\n",
    "After  8 days: 2,3,2,0,1,2,3,4,4,5\n",
    "After  9 days: 1,2,1,6,0,1,2,3,3,4,8\n",
    "After 10 days: 0,1,0,5,6,0,1,2,2,3,7,8\n",
    "After 11 days: 6,0,6,4,5,6,0,1,1,2,6,7,8,8,8\n",
    "After 12 days: 5,6,5,3,4,5,6,0,0,1,5,6,7,7,7,8,8\n",
    "After 13 days: 4,5,4,2,3,4,5,6,6,0,4,5,6,6,6,7,7,8,8\n",
    "After 14 days: 3,4,3,1,2,3,4,5,5,6,3,4,5,5,5,6,6,7,7,8\n",
    "After 15 days: 2,3,2,0,1,2,3,4,4,5,2,3,4,4,4,5,5,6,6,7\n",
    "After 16 days: 1,2,1,6,0,1,2,3,3,4,1,2,3,3,3,4,4,5,5,6,8\n",
    "After 17 days: 0,1,0,5,6,0,1,2,2,3,0,1,2,2,2,3,3,4,4,5,7,8\n",
    "After 18 days: 6,0,6,4,5,6,0,1,1,2,6,0,1,1,1,2,2,3,3,4,6,7,8,8,8,8"
   ]
  },
  {
   "cell_type": "code",
   "execution_count": 21,
   "id": "93c9f11e",
   "metadata": {},
   "outputs": [],
   "source": [
    "inputs = '''1,1,1,3,3,2,1,1,1,1,1,4,4,1,4,1,4,1,1,4,1,1,1,3,3,2,3,1,2,1,1,1,1,1,1,1,3,4,1,1,4,3,1,2,3,1,1,1,5,2,1,1,1,1,2,1,2,5,2,2,1,1,1,3,1,1,1,4,1,1,1,1,1,3,3,2,1,1,3,1,4,1,2,1,5,1,4,2,1,1,5,1,1,1,1,4,3,1,3,2,1,4,1,1,2,1,4,4,5,1,3,1,1,1,1,2,1,4,4,1,1,1,3,1,5,1,1,1,1,1,3,2,5,1,5,4,1,4,1,3,5,1,2,5,4,3,3,2,4,1,5,1,1,2,4,1,1,1,1,2,4,1,2,5,1,4,1,4,2,5,4,1,1,2,2,4,1,5,1,4,3,3,2,3,1,2,3,1,4,1,1,1,3,5,1,1,1,3,5,1,1,4,1,4,4,1,3,1,1,1,2,3,3,2,5,1,2,1,1,2,2,1,3,4,1,3,5,1,3,4,3,5,1,1,5,1,3,3,2,1,5,1,1,3,1,1,3,1,2,1,3,2,5,1,3,1,1,3,5,1,1,1,1,2,1,2,4,4,4,2,2,3,1,5,1,2,1,3,3,3,4,1,1,5,1,3,2,4,1,5,5,1,4,4,1,4,4,1,1,2'''"
   ]
  },
  {
   "cell_type": "code",
   "execution_count": 59,
   "id": "6fe8e6d9",
   "metadata": {},
   "outputs": [
    {
     "name": "stdout",
     "output_type": "stream",
     "text": [
      "1\n",
      "2\n",
      "3\n",
      "4\n",
      "5\n",
      "6\n",
      "7\n",
      "8\n",
      "9\n",
      "10\n",
      "11\n",
      "12\n",
      "13\n",
      "14\n",
      "15\n",
      "16\n",
      "17\n",
      "18\n",
      "19\n",
      "20\n",
      "21\n",
      "22\n",
      "23\n",
      "24\n",
      "25\n",
      "26\n",
      "27\n",
      "28\n",
      "29\n",
      "30\n",
      "31\n",
      "32\n",
      "33\n",
      "34\n",
      "35\n",
      "36\n",
      "37\n",
      "38\n",
      "39\n",
      "40\n",
      "41\n",
      "42\n",
      "43\n",
      "44\n",
      "45\n",
      "46\n",
      "47\n",
      "48\n",
      "49\n",
      "50\n",
      "51\n",
      "52\n",
      "53\n",
      "54\n",
      "55\n",
      "56\n",
      "57\n",
      "58\n",
      "59\n",
      "60\n",
      "61\n",
      "62\n",
      "63\n",
      "64\n",
      "65\n",
      "66\n",
      "67\n",
      "68\n",
      "69\n",
      "70\n",
      "71\n",
      "72\n",
      "73\n",
      "74\n",
      "75\n",
      "76\n",
      "77\n",
      "78\n",
      "79\n",
      "80\n",
      "81\n",
      "82\n",
      "83\n",
      "84\n",
      "85\n",
      "86\n",
      "87\n",
      "88\n",
      "89\n",
      "90\n",
      "91\n",
      "92\n",
      "93\n",
      "94\n",
      "95\n",
      "96\n",
      "97\n",
      "98\n",
      "99\n",
      "100\n",
      "101\n",
      "102\n",
      "103\n",
      "104\n",
      "105\n",
      "106\n",
      "107\n",
      "108\n",
      "109\n",
      "110\n",
      "111\n",
      "112\n",
      "113\n",
      "114\n",
      "115\n",
      "116\n",
      "117\n",
      "118\n",
      "119\n",
      "120\n",
      "121\n",
      "122\n",
      "123\n",
      "124\n",
      "125\n",
      "126\n",
      "127\n",
      "128\n",
      "129\n",
      "130\n",
      "131\n",
      "132\n",
      "133\n",
      "134\n",
      "135\n",
      "136\n",
      "137\n",
      "138\n",
      "139\n",
      "140\n",
      "141\n",
      "142\n",
      "143\n",
      "144\n",
      "145\n",
      "146\n",
      "147\n",
      "148\n",
      "149\n",
      "150\n",
      "151\n",
      "152\n",
      "153\n",
      "154\n",
      "155\n",
      "156\n",
      "157\n",
      "158\n",
      "159\n",
      "160\n",
      "161\n",
      "162\n",
      "163\n",
      "164\n",
      "165\n",
      "166\n",
      "167\n",
      "168\n"
     ]
    },
    {
     "ename": "KeyboardInterrupt",
     "evalue": "",
     "output_type": "error",
     "traceback": [
      "\u001b[0;31m---------------------------------------------------------------------------\u001b[0m",
      "\u001b[0;31mKeyboardInterrupt\u001b[0m                         Traceback (most recent call last)",
      "\u001b[0;32m<ipython-input-59-c4c97d614c89>\u001b[0m in \u001b[0;36m<module>\u001b[0;34m\u001b[0m\n\u001b[1;32m     14\u001b[0m             \u001b[0mnewlist\u001b[0m\u001b[0;34m.\u001b[0m\u001b[0mappend\u001b[0m\u001b[0;34m(\u001b[0m\u001b[0;36m6\u001b[0m\u001b[0;34m)\u001b[0m\u001b[0;34m\u001b[0m\u001b[0;34m\u001b[0m\u001b[0m\n\u001b[1;32m     15\u001b[0m         \u001b[0;32melse\u001b[0m\u001b[0;34m:\u001b[0m\u001b[0;34m\u001b[0m\u001b[0;34m\u001b[0m\u001b[0m\n\u001b[0;32m---> 16\u001b[0;31m             \u001b[0mnewlist\u001b[0m\u001b[0;34m.\u001b[0m\u001b[0mappend\u001b[0m\u001b[0;34m(\u001b[0m\u001b[0mf\u001b[0m\u001b[0;34m-\u001b[0m\u001b[0;36m1\u001b[0m\u001b[0;34m)\u001b[0m\u001b[0;34m\u001b[0m\u001b[0;34m\u001b[0m\u001b[0m\n\u001b[0m\u001b[1;32m     17\u001b[0m     \u001b[0mfish\u001b[0m \u001b[0;34m=\u001b[0m \u001b[0mnewlist\u001b[0m\u001b[0;34m+\u001b[0m\u001b[0mnewfish\u001b[0m\u001b[0;34m\u001b[0m\u001b[0;34m\u001b[0m\u001b[0m\n\u001b[1;32m     18\u001b[0m     \u001b[0;31m#print(d,fish)\u001b[0m\u001b[0;34m\u001b[0m\u001b[0;34m\u001b[0m\u001b[0;34m\u001b[0m\u001b[0m\n",
      "\u001b[0;31mKeyboardInterrupt\u001b[0m: "
     ]
    }
   ],
   "source": [
    "fish = map(int,'3,4,3,1,2'.split(','))\n",
    "#print(0,list(fish))\n",
    "\n",
    "#fish = map(int,inputs.split(','))\n",
    "\n",
    "pattern = []\n",
    "for d in range(1,256+1):\n",
    "    print(d)\n",
    "    newlist=[]\n",
    "    newfish = []\n",
    "    for f in fish:\n",
    "        if f-1 == -1:\n",
    "            newfish.append(8)\n",
    "            newlist.append(6)\n",
    "        else:\n",
    "            newlist.append(f-1)\n",
    "    fish = newlist+newfish\n",
    "    #print(d,fish)\n",
    "    pattern.append(str(fish))\n",
    "print(len(fish))"
   ]
  },
  {
   "cell_type": "code",
   "execution_count": 52,
   "id": "9974cdfd",
   "metadata": {},
   "outputs": [],
   "source": [
    "#the patterns must repeat in some way. "
   ]
  },
  {
   "cell_type": "code",
   "execution_count": 53,
   "id": "df090626",
   "metadata": {},
   "outputs": [
    {
     "name": "stdout",
     "output_type": "stream",
     "text": [
      "9\n"
     ]
    }
   ],
   "source": [
    "template = pattern[9].replace('[','').replace(']','')\n",
    "for d,p in enumerate(pattern):\n",
    "    if template in p:\n",
    "        print(d)"
   ]
  },
  {
   "cell_type": "code",
   "execution_count": 58,
   "id": "be0e1433",
   "metadata": {},
   "outputs": [],
   "source": [
    "#pattern[-1]"
   ]
  },
  {
   "cell_type": "code",
   "execution_count": 55,
   "id": "0231cbc0",
   "metadata": {},
   "outputs": [
    {
     "data": {
      "text/plain": [
       "[<matplotlib.lines.Line2D at 0x7fe42fa27040>]"
      ]
     },
     "execution_count": 55,
     "metadata": {},
     "output_type": "execute_result"
    },
    {
     "data": {
      "image/png": "[encoded data removed]",
      "text/plain": [
       "<Figure size 432x288 with 1 Axes>"
      ]
     },
     "metadata": {
      "needs_background": "light"
     },
     "output_type": "display_data"
    }
   ],
   "source": [
    "import matplotlib.pyplot as plt\n",
    "store=[len(p) for p in pattern]\n",
    "import numpy as np\n",
    "plt.plot(np.log(store))"
   ]
  },
  {
   "cell_type": "code",
   "execution_count": 57,
   "id": "98414d13",
   "metadata": {},
   "outputs": [
    {
     "data": {
      "text/plain": [
       "-1253440677.8224633"
      ]
     },
     "execution_count": 57,
     "metadata": {},
     "output_type": "execute_result"
    }
   ],
   "source": [
    "# will line of bfit be accurate enough?. Nope.\n",
    "fits = np.polyfit(range(1,len(store)+1), store, 9)\n",
    "p = np.poly1d(fits)\n",
    "p(256)"
   ]
  },
  {
   "cell_type": "code",
   "execution_count": 65,
   "id": "aa1f1259",
   "metadata": {},
   "outputs": [],
   "source": [
    "fish = map(int,'3,4,3,1,2'.split(','))\n",
    "#print(0,list(fish))\n",
    "\n",
    "#fish = map(int,inputs.split(','))\n",
    "#each fish is a different exponential function, with different offsets. \n",
    "# 9 days from birth, then every 7 days\n",
    "# init 5 fish at 7 days. \n",
    "# 256 /7\n",
    "# 256"
   ]
  },
  {
   "cell_type": "code",
   "execution_count": 62,
   "id": "14f0c701",
   "metadata": {},
   "outputs": [
    {
     "data": {
      "text/plain": [
       "35.285714285714285"
      ]
     },
     "execution_count": 62,
     "metadata": {},
     "output_type": "execute_result"
    }
   ],
   "source": [
    "#(256-9)/7, then rest are 28 double-ings from the first N first\n",
    "(256-9)/7\n",
    "\n",
    "#26984457539"
   ]
  },
  {
   "cell_type": "code",
   "execution_count": 106,
   "id": "7391f27d",
   "metadata": {},
   "outputs": [
    {
     "data": {
      "text/plain": [
       "1681503251694"
      ]
     },
     "execution_count": 106,
     "metadata": {},
     "output_type": "execute_result"
    }
   ],
   "source": [
    "from collections import Counter\n",
    "fishcounter = Counter()\n",
    "for f in range(0,9):\n",
    "    fishcounter[f] = 0\n",
    "fish = map(int,inputs.split(','))\n",
    "\n",
    "subcounter = Counter()\n",
    "for f in fish:\n",
    "    fishcounter[f] +=1\n",
    "#print(fishcounter)\n",
    "for i in range(256):\n",
    "    subcounter = Counter()\n",
    "    for f in range(0,9):\n",
    "        subcounter[f] = 0\n",
    "    #decrease each fish's history, or shift it over by 1\n",
    "    #\n",
    "    for f in range(0,9):\n",
    "        subcounter[f] = fishcounter[f+1]\n",
    "    #new fish from old fish.\n",
    "    subcounter[8] = fishcounter[0]\n",
    "    #old fish reset after laying\n",
    "    subcounter[6] += subcounter[8]\n",
    "    fishcounter=subcounter\n",
    "    \n",
    "    \n",
    "sum(fishcounter.values())"
   ]
  },
  {
   "cell_type": "code",
   "execution_count": 82,
   "id": "5de646f7",
   "metadata": {},
   "outputs": [
    {
     "data": {
      "text/plain": [
       "array([  0, 145,  41,  45,  42,  27,   0,   0,   0])"
      ]
     },
     "execution_count": 82,
     "metadata": {},
     "output_type": "execute_result"
    }
   ],
   "source": [
    "fish = map(int,inputs.split(','))\n",
    "pop = np.bincount(np.array([int(i) for i in fish]),minlength=9)\n",
    "pop"
   ]
  },
  {
   "cell_type": "code",
   "execution_count": 63,
   "id": "9c75c63d",
   "metadata": {},
   "outputs": [
    {
     "data": {
      "text/plain": [
       "36.57142857142857"
      ]
     },
     "execution_count": 63,
     "metadata": {},
     "output_type": "execute_result"
    }
   ],
   "source": [
    "256/7"
   ]
  },
  {
   "cell_type": "code",
   "execution_count": 78,
   "id": "c91d8d00",
   "metadata": {},
   "outputs": [
    {
     "data": {
      "text/plain": [
       "51665739831930724648333256687616000000000"
      ]
     },
     "execution_count": 78,
     "metadata": {},
     "output_type": "execute_result"
    }
   ],
   "source": [
    "5*fact(35)"
   ]
  },
  {
   "cell_type": "code",
   "execution_count": 75,
   "id": "11be7eac",
   "metadata": {},
   "outputs": [],
   "source": [
    "def fact(n):\n",
    "    if n <=1:\n",
    "        return n\n",
    "    return n*fact(n-1)"
   ]
  },
  {
   "cell_type": "code",
   "execution_count": 76,
   "id": "78c27e9b",
   "metadata": {},
   "outputs": [
    {
     "data": {
      "text/plain": [
       "120"
      ]
     },
     "execution_count": 76,
     "metadata": {},
     "output_type": "execute_result"
    }
   ],
   "source": [
    "fact(5)"
   ]
  },
  {
   "cell_type": "code",
   "execution_count": 77,
   "id": "7e50aba3",
   "metadata": {},
   "outputs": [
    {
     "data": {
      "text/plain": [
       "120"
      ]
     },
     "execution_count": 77,
     "metadata": {},
     "output_type": "execute_result"
    }
   ],
   "source": []
  },
  {
   "cell_type": "code",
   "execution_count": null,
   "id": "acbea13f",
   "metadata": {},
   "outputs": [],
   "source": []
  }
 ],
 "metadata": {
  "kernelspec": {
   "display_name": "Python 3",
   "language": "python",
   "name": "python3"
  },
  "language_info": {
   "codemirror_mode": {
    "name": "ipython",
    "version": 3
   },
   "file_extension": ".py",
   "mimetype": "text/x-python",
   "name": "python",
   "nbconvert_exporter": "python",
   "pygments_lexer": "ipython3",
   "version": "3.8.8"
  }
 },
 "nbformat": 4,
 "nbformat_minor": 5
}
