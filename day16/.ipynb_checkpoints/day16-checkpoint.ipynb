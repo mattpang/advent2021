{
 "cells": [
  {
   "cell_type": "code",
   "execution_count": 1,
   "id": "82ee5cdc",
   "metadata": {},
   "outputs": [],
   "source": [
    "tstring = '8A004A801A8002F478'\n",
    "tests = {'8A004A801A8002F478':16,'620080001611562C8802118E34':12,'C0015000016115A2E0802F182340':23,'A0016C880162017C3686B18A3D4780':31}"
   ]
  },
  {
   "cell_type": "code",
   "execution_count": 2,
   "id": "298b62e1",
   "metadata": {},
   "outputs": [
    {
     "data": {
      "text/plain": [
       "'100010100000000001001010100000000001101010000000000000101111010001111000'"
      ]
     },
     "execution_count": 2,
     "metadata": {},
     "output_type": "execute_result"
    }
   ],
   "source": [
    "lookup = {'0' : '0000','1' : '0001','2' : '0010','3' : '0011','4' : '0100','5' : '0101','6' : '0110','7' : '0111','8' : '1000','9' : '1001','A' : '1010','B' : '1011','C' : '1100','D' : '1101','E' : '1110','F' : '1111'}\n",
    "    \n",
    "def to_binary_string(s):\n",
    "    out = ''\n",
    "    for c in s:\n",
    "        out+=lookup[c]\n",
    "    return out\n",
    "\n",
    "\n",
    "to_binary_string(tstring)"
   ]
  },
  {
   "cell_type": "code",
   "execution_count": 3,
   "id": "031ff527",
   "metadata": {},
   "outputs": [
    {
     "data": {
      "text/plain": [
       "'110100101111111000101000'"
      ]
     },
     "execution_count": 3,
     "metadata": {},
     "output_type": "execute_result"
    }
   ],
   "source": [
    "to_binary_string('D2FE28')"
   ]
  },
  {
   "cell_type": "code",
   "execution_count": 5,
   "id": "f8fceb07",
   "metadata": {},
   "outputs": [
    {
     "ename": "SyntaxError",
     "evalue": "invalid syntax (<ipython-input-5-e3932cf10836>, line 3)",
     "output_type": "error",
     "traceback": [
      "\u001b[0;36m  File \u001b[0;32m\"<ipython-input-5-e3932cf10836>\"\u001b[0;36m, line \u001b[0;32m3\u001b[0m\n\u001b[0;31m    Below each bit is a label indicating its purpose:\u001b[0m\n\u001b[0m          ^\u001b[0m\n\u001b[0;31mSyntaxError\u001b[0m\u001b[0;31m:\u001b[0m invalid syntax\n"
     ]
    }
   ],
   "source": [
    "110100101111111000101000\n",
    "VVVTTTAAAAABBBBBCCCCC\n",
    "Below each bit is a label indicating its purpose:\n",
    "\n",
    "The three bits labeled V (110) are the packet version, 6.\n",
    "The three bits labeled T (100) are the packet type ID, 4, which means the packet is a literal value.\n",
    "The five bits labeled A (10111) start with a 1 (not the last group, keep reading) and contain the first four bits of the number, 0111.\n",
    "The five bits labeled B (11110) start with a 1 (not the last group, keep reading) and contain four more bits of the number, 1110.\n",
    "The five bits labeled C (00101) start with a 0 (last group, end of packet) and contain the last four bits of the number, 0101.\n",
    "The three unlabeled 0 bits at the end are extra due to the hexadecimal representation and should be ignored.\n",
    "\n"
   ]
  },
  {
   "cell_type": "code",
   "execution_count": 4,
   "id": "6db01b7b",
   "metadata": {},
   "outputs": [],
   "source": [
    "def value(bs):\n",
    "    val = 0\n",
    "    for e, b in enumerate(bs[::-1]):\n",
    "        if b == '1':\n",
    "            val+=2**e\n",
    "    return val\n"
   ]
  },
  {
   "cell_type": "code",
   "execution_count": null,
   "id": "76910b44",
   "metadata": {},
   "outputs": [],
   "source": []
  },
  {
   "cell_type": "code",
   "execution_count": null,
   "id": "49ce8ae0",
   "metadata": {},
   "outputs": [],
   "source": []
  },
  {
   "cell_type": "code",
   "execution_count": 6,
   "id": "bfc6a4c5",
   "metadata": {},
   "outputs": [
    {
     "data": {
      "text/plain": [
       "(10, '01000100100')"
      ]
     },
     "execution_count": 6,
     "metadata": {},
     "output_type": "execute_result"
    }
   ],
   "source": [
    "def literal_packet(rest):\n",
    "    ver_num = ''\n",
    "    while True:\n",
    "        ver_num += rest[1:5]\n",
    "        x = rest[0]\n",
    "        rest = rest[5:]\n",
    "        if x =='0':\n",
    "            break\n",
    "    return value(ver_num),rest\n",
    "\n",
    "literal_packet('0101001000100100')"
   ]
  },
  {
   "cell_type": "code",
   "execution_count": 28,
   "id": "b7ce7267",
   "metadata": {},
   "outputs": [
    {
     "name": "stdout",
     "output_type": "stream",
     "text": [
      "part1 947\n",
      "part2 660797830937\n"
     ]
    }
   ],
   "source": [
    "f = open('input.txt','r')\n",
    "bstring = f.read().replace('\\n','')\n",
    "\n",
    "\n",
    "a = []\n",
    "def packet(trans):\n",
    "    pversion,ptype,rest = int(trans[:3],2),int(trans[3:6],2),trans[6:]\n",
    "    a = []\n",
    "    versions,result = 0,0\n",
    "    if ptype == 4:\n",
    "        result, rest = literal_packet(rest)\n",
    "    elif ptype != 4:\n",
    "        x = rest[0]\n",
    "        rest = rest[1:]\n",
    "        subpackets = []\n",
    "        if x == '0':        #next 15 bits are a number that represents the total length in bits of the sub-packets contained by this packet.\n",
    "            subpacked_length = int(rest[:15],2)\n",
    "            rest = rest[15:]\n",
    "            estimatedrestlength = len(rest) - subpacked_length\n",
    "            while len(rest)>estimatedrestlength:\n",
    "                subpacket, rest = packet(rest)\n",
    "                for sub in subpacket: subpackets.append(sub)\n",
    "        elif x == '1':       #next 11 bits are a number that represents the number of sub-packets immediately contained by this packet\n",
    "            subpacked_count= int(rest[:11],2)\n",
    "            rest = rest[11:]\n",
    "            for _ in range(subpacked_count):\n",
    "                subpacket, rest = packet(rest)\n",
    "                for sub in subpacket: subpackets.append(sub)\n",
    "        for x in subpackets:\n",
    "            versions += x[0]\n",
    "        subresults=[]\n",
    "        if ptype ==0:  #Addition\n",
    "            for x in subpackets:\n",
    "                result +=x[2]\n",
    "        elif ptype ==1:\n",
    "            result = 1\n",
    "            for x in subpackets:\n",
    "                result *=x[2]\n",
    "        elif ptype ==2:\n",
    "            for x in subpackets:\n",
    "                subresults += [x[2]]\n",
    "            result = min(subresults)\n",
    "        elif ptype ==3:\n",
    "            for x in subpackets:\n",
    "                subresults += [x[2]]\n",
    "            result = max(subresults)\n",
    "        elif ptype ==5:\n",
    "            if subpackets[0][2]>subpackets[1][2]: \n",
    "                result = 1 \n",
    "        elif ptype ==6:\n",
    "            if subpackets[0][2]<subpackets[1][2]: \n",
    "                result = 1 \n",
    "        elif ptype ==7:\n",
    "            if subpackets[0][2]==subpackets[1][2]: \n",
    "                result = 1 \n",
    "    a.append((pversion+versions,ptype,result))\n",
    "    return a , rest\n",
    "\n",
    "packets, rest = packet(to_binary_string(bstring))\n",
    "print('part1',packets[-1][0])\n",
    "print('part2',packets[-1][2])"
   ]
  },
  {
   "cell_type": "code",
   "execution_count": 8,
   "id": "19032085",
   "metadata": {},
   "outputs": [
    {
     "name": "stdout",
     "output_type": "stream",
     "text": [
      "I\n",
      "11010001010\n",
      "27 10 20\n",
      "6\n"
     ]
    }
   ],
   "source": [
    "b = to_binary_string('38006F45291200')\n",
    "packet_version = value(b[0:3])\n",
    "packet_type = value(b[3:6])\n",
    "if packet_type == 4:\n",
    "    a_reg = b[6:6+5]\n",
    "    b_reg = b[6+5:6+5+5]\n",
    "    c_reg = b[6+5+5:6+5+5+5]\n",
    "\n",
    "    if a_reg[0] == '1':\n",
    "        a_val = a_reg[1:]\n",
    "    if b_reg[0] == '1':\n",
    "        b_val = b_reg[1:]\n",
    "    if c_reg[0] == '0':\n",
    "        c_val = c_reg[1:]\n",
    "\n",
    "\n",
    "    value(a_val+b_val+c_val)\n",
    "else:\n",
    "    length_type_id = b[5]\n",
    "    \n",
    "    if b[5]:\n",
    "        print('I')\n",
    "    if length_type_id:\n",
    "        nextbits = 15\n",
    "    else:\n",
    "        nextbits=11\n",
    "    L = value(b[6:6+nextbits+1])\n",
    "    a_reg = b[6+nextbits+1:6+nextbits+1+11]\n",
    "    b_reg = b[6+nextbits+1+11:6+nextbits+1+L]\n",
    "    \n",
    "    print(a_reg)\n",
    "    _,_,a_val = literal_packet(a_reg)\n",
    "    _,_,b_val = literal_packet(b_reg)\n",
    "    print(L,a_val,b_val)\n",
    "    \n",
    "    print(packet_type)\n",
    "\n"
   ]
  },
  {
   "cell_type": "code",
   "execution_count": 15,
   "id": "a7504a9b",
   "metadata": {},
   "outputs": [
    {
     "data": {
      "text/plain": [
       "True"
      ]
     },
     "execution_count": 15,
     "metadata": {},
     "output_type": "execute_result"
    }
   ],
   "source": []
  },
  {
   "cell_type": "code",
   "execution_count": 311,
   "id": "85205d6a",
   "metadata": {},
   "outputs": [
    {
     "data": {
      "text/plain": [
       "'0100010000000000101100010000000010111110000110110100001101011000110001010001111010100011110'"
      ]
     },
     "execution_count": 311,
     "metadata": {},
     "output_type": "execute_result"
    }
   ],
   "source": [
    "to_binary_string('A0016C880162017C3686B18A3D4780')[7+15+1:91+7+15+1]"
   ]
  },
  {
   "cell_type": "code",
   "execution_count": 312,
   "id": "d1d44d10",
   "metadata": {},
   "outputs": [
    {
     "data": {
      "text/plain": [
       "'101000000000000101101100100010000000000101100010000000010111110000110110100001101011000110001010001111010100011110000000'"
      ]
     },
     "execution_count": 312,
     "metadata": {},
     "output_type": "execute_result"
    }
   ],
   "source": [
    "to_binary_string('A0016C880162017C3686B18A3D4780')"
   ]
  },
  {
   "cell_type": "markdown",
   "id": "9e5a54f8",
   "metadata": {},
   "source": [
    "# bib = to_binary_string('8A004A801A8002F478')\n",
    "bib"
   ]
  },
  {
   "cell_type": "code",
   "execution_count": 264,
   "id": "3e4f904c",
   "metadata": {},
   "outputs": [
    {
     "data": {
      "text/plain": [
       "'00000000001'"
      ]
     },
     "execution_count": 264,
     "metadata": {},
     "output_type": "execute_result"
    }
   ],
   "source": [
    "bib[7:7+11]"
   ]
  },
  {
   "cell_type": "code",
   "execution_count": 265,
   "id": "e0de8808",
   "metadata": {},
   "outputs": [
    {
     "data": {
      "text/plain": [
       "51"
      ]
     },
     "execution_count": 265,
     "metadata": {},
     "output_type": "execute_result"
    }
   ],
   "source": [
    "len('001010100000000001101010000000000000101111010001111')"
   ]
  },
  {
   "cell_type": "code",
   "execution_count": 266,
   "id": "5e540e1b",
   "metadata": {},
   "outputs": [
    {
     "data": {
      "text/plain": [
       "'100010100000000001001010100000000001101010000000000000101111010001111000'"
      ]
     },
     "execution_count": 266,
     "metadata": {},
     "output_type": "execute_result"
    }
   ],
   "source": [
    "to_binary_string('8A004A801A8002F478')"
   ]
  },
  {
   "cell_type": "code",
   "execution_count": 267,
   "id": "11d4c416",
   "metadata": {},
   "outputs": [
    {
     "name": "stdout",
     "output_type": "stream",
     "text": [
      "btype 4\n",
      "number_sub_packets 1\n",
      "btype 1\n",
      "number_sub_packets 1\n",
      "btype 5\n",
      "11010001111 11\n",
      "btype 6\n",
      "failed for: 8A004A801A8002F478 16 25\n",
      "btype 3\n",
      "number_sub_packets 2\n",
      "btype 0\n",
      "btype 0\n",
      "number_sub_packets 6\n",
      "btype 0\n",
      "00000010110\n",
      "btype 0\n",
      "00000010110\n",
      "btype 0\n",
      "00000010110\n",
      "btype 0\n",
      "00000010110\n",
      "btype 0\n",
      "00000010110\n",
      "btype 0\n",
      "00000010110\n",
      "failed for: 620080001611562C8802118E34 12 3\n",
      "btype 6\n",
      "00000000000 11\n",
      "btype 0\n",
      "00000010110 11\n",
      "btype 0\n",
      "number_sub_packets 6\n",
      "btype 0\n",
      "00000010110\n",
      "btype 0\n",
      "00000010110\n",
      "btype 0\n",
      "00000010110\n",
      "btype 0\n",
      "00000010110\n",
      "btype 0\n",
      "00000010110\n",
      "btype 0\n",
      "00000010110\n",
      "00010001010 11\n",
      "btype 0\n",
      "11010001011 11\n",
      "btype 6\n",
      "10000010000 11\n",
      "btype 4\n",
      "number_sub_packets 0\n",
      "00000101111 11\n",
      "btype 0\n",
      " 0\n",
      "btype 0\n"
     ]
    },
    {
     "ename": "IndexError",
     "evalue": "string index out of range",
     "output_type": "error",
     "traceback": [
      "\u001b[0;31m---------------------------------------------------------------------------\u001b[0m",
      "\u001b[0;31mIndexError\u001b[0m                                Traceback (most recent call last)",
      "\u001b[0;32m<ipython-input-267-ca332707c14c>\u001b[0m in \u001b[0;36m<module>\u001b[0;34m\u001b[0m\n\u001b[1;32m      1\u001b[0m \u001b[0;32mfor\u001b[0m \u001b[0mk\u001b[0m\u001b[0;34m,\u001b[0m\u001b[0mv\u001b[0m \u001b[0;32min\u001b[0m \u001b[0mtests\u001b[0m\u001b[0;34m.\u001b[0m\u001b[0mitems\u001b[0m\u001b[0;34m(\u001b[0m\u001b[0;34m)\u001b[0m\u001b[0;34m:\u001b[0m\u001b[0;34m\u001b[0m\u001b[0;34m\u001b[0m\u001b[0m\n\u001b[1;32m      2\u001b[0m     \u001b[0mmybs\u001b[0m \u001b[0;34m=\u001b[0m \u001b[0mto_binary_string\u001b[0m\u001b[0;34m(\u001b[0m\u001b[0mk\u001b[0m\u001b[0;34m)\u001b[0m\u001b[0;34m\u001b[0m\u001b[0;34m\u001b[0m\u001b[0m\n\u001b[0;32m----> 3\u001b[0;31m     \u001b[0mp\u001b[0m \u001b[0;34m=\u001b[0m \u001b[0mprocess\u001b[0m\u001b[0;34m(\u001b[0m\u001b[0mmybs\u001b[0m\u001b[0;34m,\u001b[0m\u001b[0;36m0\u001b[0m\u001b[0;34m)\u001b[0m\u001b[0;34m\u001b[0m\u001b[0;34m\u001b[0m\u001b[0m\n\u001b[0m\u001b[1;32m      4\u001b[0m     \u001b[0;32mif\u001b[0m \u001b[0mv\u001b[0m\u001b[0;34m==\u001b[0m\u001b[0mp\u001b[0m\u001b[0;34m:\u001b[0m\u001b[0;34m\u001b[0m\u001b[0;34m\u001b[0m\u001b[0m\n\u001b[1;32m      5\u001b[0m         \u001b[0mprint\u001b[0m\u001b[0;34m(\u001b[0m\u001b[0;34m'pass'\u001b[0m\u001b[0;34m)\u001b[0m\u001b[0;34m\u001b[0m\u001b[0;34m\u001b[0m\u001b[0m\n",
      "\u001b[0;32m<ipython-input-262-1d56ce36fb60>\u001b[0m in \u001b[0;36mprocess\u001b[0;34m(b, tally)\u001b[0m\n\u001b[1;32m     34\u001b[0m                     \u001b[0mbstr\u001b[0m\u001b[0;34m=\u001b[0m\u001b[0mb\u001b[0m\u001b[0;34m[\u001b[0m\u001b[0mpos\u001b[0m\u001b[0;34m+\u001b[0m\u001b[0;34m(\u001b[0m\u001b[0;36m11\u001b[0m\u001b[0;34m*\u001b[0m\u001b[0ms\u001b[0m\u001b[0;34m)\u001b[0m\u001b[0;34m:\u001b[0m\u001b[0mpos\u001b[0m\u001b[0;34m+\u001b[0m\u001b[0;34m(\u001b[0m\u001b[0;36m11\u001b[0m\u001b[0;34m*\u001b[0m\u001b[0;34m(\u001b[0m\u001b[0ms\u001b[0m\u001b[0;34m+\u001b[0m\u001b[0;36m1\u001b[0m\u001b[0;34m)\u001b[0m\u001b[0;34m)\u001b[0m\u001b[0;34m]\u001b[0m\u001b[0;34m\u001b[0m\u001b[0;34m\u001b[0m\u001b[0m\n\u001b[1;32m     35\u001b[0m                 \u001b[0mprint\u001b[0m\u001b[0;34m(\u001b[0m\u001b[0mbstr\u001b[0m\u001b[0;34m,\u001b[0m\u001b[0mlen\u001b[0m\u001b[0;34m(\u001b[0m\u001b[0mbstr\u001b[0m\u001b[0;34m)\u001b[0m\u001b[0;34m)\u001b[0m\u001b[0;34m\u001b[0m\u001b[0;34m\u001b[0m\u001b[0m\n\u001b[0;32m---> 36\u001b[0;31m                 \u001b[0mtally\u001b[0m\u001b[0;34m+=\u001b[0m\u001b[0mprocess\u001b[0m\u001b[0;34m(\u001b[0m\u001b[0mbstr\u001b[0m\u001b[0;34m,\u001b[0m\u001b[0;36m0\u001b[0m\u001b[0;34m)\u001b[0m\u001b[0;34m\u001b[0m\u001b[0;34m\u001b[0m\u001b[0m\n\u001b[0m\u001b[1;32m     37\u001b[0m                 \u001b[0;31m#print(ans)\u001b[0m\u001b[0;34m\u001b[0m\u001b[0;34m\u001b[0m\u001b[0;34m\u001b[0m\u001b[0m\n\u001b[1;32m     38\u001b[0m                 \u001b[0;31m#tally+=ans\u001b[0m\u001b[0;34m\u001b[0m\u001b[0;34m\u001b[0m\u001b[0;34m\u001b[0m\u001b[0m\n",
      "\u001b[0;32m<ipython-input-262-1d56ce36fb60>\u001b[0m in \u001b[0;36mprocess\u001b[0;34m(b, tally)\u001b[0m\n\u001b[1;32m     34\u001b[0m                     \u001b[0mbstr\u001b[0m\u001b[0;34m=\u001b[0m\u001b[0mb\u001b[0m\u001b[0;34m[\u001b[0m\u001b[0mpos\u001b[0m\u001b[0;34m+\u001b[0m\u001b[0;34m(\u001b[0m\u001b[0;36m11\u001b[0m\u001b[0;34m*\u001b[0m\u001b[0ms\u001b[0m\u001b[0;34m)\u001b[0m\u001b[0;34m:\u001b[0m\u001b[0mpos\u001b[0m\u001b[0;34m+\u001b[0m\u001b[0;34m(\u001b[0m\u001b[0;36m11\u001b[0m\u001b[0;34m*\u001b[0m\u001b[0;34m(\u001b[0m\u001b[0ms\u001b[0m\u001b[0;34m+\u001b[0m\u001b[0;36m1\u001b[0m\u001b[0;34m)\u001b[0m\u001b[0;34m)\u001b[0m\u001b[0;34m]\u001b[0m\u001b[0;34m\u001b[0m\u001b[0;34m\u001b[0m\u001b[0m\n\u001b[1;32m     35\u001b[0m                 \u001b[0mprint\u001b[0m\u001b[0;34m(\u001b[0m\u001b[0mbstr\u001b[0m\u001b[0;34m,\u001b[0m\u001b[0mlen\u001b[0m\u001b[0;34m(\u001b[0m\u001b[0mbstr\u001b[0m\u001b[0;34m)\u001b[0m\u001b[0;34m)\u001b[0m\u001b[0;34m\u001b[0m\u001b[0;34m\u001b[0m\u001b[0m\n\u001b[0;32m---> 36\u001b[0;31m                 \u001b[0mtally\u001b[0m\u001b[0;34m+=\u001b[0m\u001b[0mprocess\u001b[0m\u001b[0;34m(\u001b[0m\u001b[0mbstr\u001b[0m\u001b[0;34m,\u001b[0m\u001b[0;36m0\u001b[0m\u001b[0;34m)\u001b[0m\u001b[0;34m\u001b[0m\u001b[0;34m\u001b[0m\u001b[0m\n\u001b[0m\u001b[1;32m     37\u001b[0m                 \u001b[0;31m#print(ans)\u001b[0m\u001b[0;34m\u001b[0m\u001b[0;34m\u001b[0m\u001b[0;34m\u001b[0m\u001b[0m\n\u001b[1;32m     38\u001b[0m                 \u001b[0;31m#tally+=ans\u001b[0m\u001b[0;34m\u001b[0m\u001b[0;34m\u001b[0m\u001b[0;34m\u001b[0m\u001b[0m\n",
      "\u001b[0;32m<ipython-input-262-1d56ce36fb60>\u001b[0m in \u001b[0;36mprocess\u001b[0;34m(b, tally)\u001b[0m\n\u001b[1;32m     17\u001b[0m     \u001b[0;32melse\u001b[0m\u001b[0;34m:\u001b[0m\u001b[0;34m\u001b[0m\u001b[0;34m\u001b[0m\u001b[0m\n\u001b[1;32m     18\u001b[0m         \u001b[0;31m#then this is an operator\u001b[0m\u001b[0;34m\u001b[0m\u001b[0;34m\u001b[0m\u001b[0;34m\u001b[0m\u001b[0m\n\u001b[0;32m---> 19\u001b[0;31m         \u001b[0mlength_type_id\u001b[0m \u001b[0;34m=\u001b[0m \u001b[0mint\u001b[0m\u001b[0;34m(\u001b[0m\u001b[0mb\u001b[0m\u001b[0;34m[\u001b[0m\u001b[0;36m6\u001b[0m\u001b[0;34m]\u001b[0m\u001b[0;34m)\u001b[0m\u001b[0;34m\u001b[0m\u001b[0;34m\u001b[0m\u001b[0m\n\u001b[0m\u001b[1;32m     20\u001b[0m         \u001b[0;31m#print('len_type', length_type_id)\u001b[0m\u001b[0;34m\u001b[0m\u001b[0;34m\u001b[0m\u001b[0;34m\u001b[0m\u001b[0m\n\u001b[1;32m     21\u001b[0m         \u001b[0;31m#print(length_type_id)\u001b[0m\u001b[0;34m\u001b[0m\u001b[0;34m\u001b[0m\u001b[0;34m\u001b[0m\u001b[0m\n",
      "\u001b[0;31mIndexError\u001b[0m: string index out of range"
     ]
    }
   ],
   "source": [
    "for k,v in tests.items():\n",
    "    mybs = to_binary_string(k)\n",
    "    p = process(mybs,0)\n",
    "    if v==p:\n",
    "        print('pass')\n",
    "    else:\n",
    "        print('failed for:',k,v,p)\n"
   ]
  },
  {
   "cell_type": "code",
   "execution_count": 268,
   "id": "c7924b39",
   "metadata": {},
   "outputs": [
    {
     "data": {
      "text/plain": [
       "11"
      ]
     },
     "execution_count": 268,
     "metadata": {},
     "output_type": "execute_result"
    }
   ],
   "source": [
    "len('00000010110')"
   ]
  },
  {
   "cell_type": "code",
   "execution_count": 174,
   "id": "2fe6e72b",
   "metadata": {},
   "outputs": [
    {
     "data": {
      "text/plain": [
       "(5, 0, 17428)"
      ]
     },
     "execution_count": 174,
     "metadata": {},
     "output_type": "execute_result"
    }
   ],
   "source": [
    "mybs = to_binary_string('38006F45291200')\n",
    "mybs[0:7]\n",
    "literal_packet(mybs[8+15:8+15+27])"
   ]
  },
  {
   "cell_type": "code",
   "execution_count": 175,
   "id": "91937fb5",
   "metadata": {},
   "outputs": [
    {
     "data": {
      "text/plain": [
       "'101000101001010010001001000'"
      ]
     },
     "execution_count": 175,
     "metadata": {},
     "output_type": "execute_result"
    }
   ],
   "source": [
    "mybs[8+15:8+15+27]"
   ]
  },
  {
   "cell_type": "code",
   "execution_count": 152,
   "id": "543b36e0",
   "metadata": {},
   "outputs": [
    {
     "data": {
      "text/plain": [
       "11"
      ]
     },
     "execution_count": 152,
     "metadata": {},
     "output_type": "execute_result"
    }
   ],
   "source": [
    "len(mybs[7:7+11])"
   ]
  },
  {
   "cell_type": "code",
   "execution_count": 130,
   "id": "c8c6cce1",
   "metadata": {},
   "outputs": [
    {
     "data": {
      "text/plain": [
       "2"
      ]
     },
     "execution_count": 130,
     "metadata": {},
     "output_type": "execute_result"
    }
   ],
   "source": [
    "value('00000000010')"
   ]
  },
  {
   "cell_type": "code",
   "execution_count": 122,
   "id": "7ec1c189",
   "metadata": {},
   "outputs": [
    {
     "data": {
      "text/plain": [
       "12"
      ]
     },
     "execution_count": 122,
     "metadata": {},
     "output_type": "execute_result"
    }
   ],
   "source": [
    "len('101100010110')"
   ]
  },
  {
   "cell_type": "code",
   "execution_count": 213,
   "id": "2277ab8a",
   "metadata": {},
   "outputs": [
    {
     "name": "stdout",
     "output_type": "stream",
     "text": [
      "number_sub_packets 1\n",
      "number_sub_packets 0\n",
      "failed for: 8A004A801A8002F478 16 5\n",
      "number_sub_packets 2\n",
      "11 22\n",
      "number_sub_packets 6\n"
     ]
    },
    {
     "ename": "IndexError",
     "evalue": "string index out of range",
     "output_type": "error",
     "traceback": [
      "\u001b[0;31m---------------------------------------------------------------------------\u001b[0m",
      "\u001b[0;31mIndexError\u001b[0m                                Traceback (most recent call last)",
      "\u001b[0;32m<ipython-input-213-ca332707c14c>\u001b[0m in \u001b[0;36m<module>\u001b[0;34m\u001b[0m\n\u001b[1;32m      1\u001b[0m \u001b[0;32mfor\u001b[0m \u001b[0mk\u001b[0m\u001b[0;34m,\u001b[0m\u001b[0mv\u001b[0m \u001b[0;32min\u001b[0m \u001b[0mtests\u001b[0m\u001b[0;34m.\u001b[0m\u001b[0mitems\u001b[0m\u001b[0;34m(\u001b[0m\u001b[0;34m)\u001b[0m\u001b[0;34m:\u001b[0m\u001b[0;34m\u001b[0m\u001b[0;34m\u001b[0m\u001b[0m\n\u001b[1;32m      2\u001b[0m     \u001b[0mmybs\u001b[0m \u001b[0;34m=\u001b[0m \u001b[0mto_binary_string\u001b[0m\u001b[0;34m(\u001b[0m\u001b[0mk\u001b[0m\u001b[0;34m)\u001b[0m\u001b[0;34m\u001b[0m\u001b[0;34m\u001b[0m\u001b[0m\n\u001b[0;32m----> 3\u001b[0;31m     \u001b[0mp\u001b[0m \u001b[0;34m=\u001b[0m \u001b[0mprocess\u001b[0m\u001b[0;34m(\u001b[0m\u001b[0mmybs\u001b[0m\u001b[0;34m,\u001b[0m\u001b[0;36m0\u001b[0m\u001b[0;34m)\u001b[0m\u001b[0;34m\u001b[0m\u001b[0;34m\u001b[0m\u001b[0m\n\u001b[0m\u001b[1;32m      4\u001b[0m     \u001b[0;32mif\u001b[0m \u001b[0mv\u001b[0m\u001b[0;34m==\u001b[0m\u001b[0mp\u001b[0m\u001b[0;34m:\u001b[0m\u001b[0;34m\u001b[0m\u001b[0;34m\u001b[0m\u001b[0m\n\u001b[1;32m      5\u001b[0m         \u001b[0mprint\u001b[0m\u001b[0;34m(\u001b[0m\u001b[0;34m'pass'\u001b[0m\u001b[0;34m)\u001b[0m\u001b[0;34m\u001b[0m\u001b[0;34m\u001b[0m\u001b[0m\n",
      "\u001b[0;32m<ipython-input-212-b1a7666f4034>\u001b[0m in \u001b[0;36mprocess\u001b[0;34m(b, tally)\u001b[0m\n\u001b[1;32m     47\u001b[0m                 \u001b[0mbstr\u001b[0m\u001b[0;34m=\u001b[0m\u001b[0mb\u001b[0m\u001b[0;34m[\u001b[0m\u001b[0mpos\u001b[0m\u001b[0;34m+\u001b[0m\u001b[0;34m(\u001b[0m\u001b[0;36m11\u001b[0m\u001b[0;34m*\u001b[0m\u001b[0ms\u001b[0m\u001b[0;34m)\u001b[0m\u001b[0;34m:\u001b[0m\u001b[0mpos\u001b[0m\u001b[0;34m+\u001b[0m\u001b[0;34m(\u001b[0m\u001b[0;36m11\u001b[0m\u001b[0;34m*\u001b[0m\u001b[0;34m(\u001b[0m\u001b[0ms\u001b[0m\u001b[0;34m+\u001b[0m\u001b[0;36m1\u001b[0m\u001b[0;34m)\u001b[0m\u001b[0;34m)\u001b[0m\u001b[0;34m]\u001b[0m\u001b[0;34m\u001b[0m\u001b[0;34m\u001b[0m\u001b[0m\n\u001b[1;32m     48\u001b[0m                 \u001b[0;31m#print(bstr)\u001b[0m\u001b[0;34m\u001b[0m\u001b[0;34m\u001b[0m\u001b[0;34m\u001b[0m\u001b[0m\n\u001b[0;32m---> 49\u001b[0;31m                 \u001b[0mans\u001b[0m\u001b[0;34m=\u001b[0m\u001b[0mprocess\u001b[0m\u001b[0;34m(\u001b[0m\u001b[0mbstr\u001b[0m\u001b[0;34m,\u001b[0m\u001b[0;36m0\u001b[0m\u001b[0;34m)\u001b[0m\u001b[0;34m\u001b[0m\u001b[0;34m\u001b[0m\u001b[0m\n\u001b[0m\u001b[1;32m     50\u001b[0m                 \u001b[0;31m#print(ans)\u001b[0m\u001b[0;34m\u001b[0m\u001b[0;34m\u001b[0m\u001b[0;34m\u001b[0m\u001b[0m\n\u001b[1;32m     51\u001b[0m                 \u001b[0mtally\u001b[0m\u001b[0;34m+=\u001b[0m\u001b[0mans\u001b[0m\u001b[0;34m\u001b[0m\u001b[0;34m\u001b[0m\u001b[0m\n",
      "\u001b[0;32m<ipython-input-212-b1a7666f4034>\u001b[0m in \u001b[0;36mprocess\u001b[0;34m(b, tally)\u001b[0m\n\u001b[1;32m     47\u001b[0m                 \u001b[0mbstr\u001b[0m\u001b[0;34m=\u001b[0m\u001b[0mb\u001b[0m\u001b[0;34m[\u001b[0m\u001b[0mpos\u001b[0m\u001b[0;34m+\u001b[0m\u001b[0;34m(\u001b[0m\u001b[0;36m11\u001b[0m\u001b[0;34m*\u001b[0m\u001b[0ms\u001b[0m\u001b[0;34m)\u001b[0m\u001b[0;34m:\u001b[0m\u001b[0mpos\u001b[0m\u001b[0;34m+\u001b[0m\u001b[0;34m(\u001b[0m\u001b[0;36m11\u001b[0m\u001b[0;34m*\u001b[0m\u001b[0;34m(\u001b[0m\u001b[0ms\u001b[0m\u001b[0;34m+\u001b[0m\u001b[0;36m1\u001b[0m\u001b[0;34m)\u001b[0m\u001b[0;34m)\u001b[0m\u001b[0;34m]\u001b[0m\u001b[0;34m\u001b[0m\u001b[0;34m\u001b[0m\u001b[0m\n\u001b[1;32m     48\u001b[0m                 \u001b[0;31m#print(bstr)\u001b[0m\u001b[0;34m\u001b[0m\u001b[0;34m\u001b[0m\u001b[0;34m\u001b[0m\u001b[0m\n\u001b[0;32m---> 49\u001b[0;31m                 \u001b[0mans\u001b[0m\u001b[0;34m=\u001b[0m\u001b[0mprocess\u001b[0m\u001b[0;34m(\u001b[0m\u001b[0mbstr\u001b[0m\u001b[0;34m,\u001b[0m\u001b[0;36m0\u001b[0m\u001b[0;34m)\u001b[0m\u001b[0;34m\u001b[0m\u001b[0;34m\u001b[0m\u001b[0m\n\u001b[0m\u001b[1;32m     50\u001b[0m                 \u001b[0;31m#print(ans)\u001b[0m\u001b[0;34m\u001b[0m\u001b[0;34m\u001b[0m\u001b[0;34m\u001b[0m\u001b[0m\n\u001b[1;32m     51\u001b[0m                 \u001b[0mtally\u001b[0m\u001b[0;34m+=\u001b[0m\u001b[0mans\u001b[0m\u001b[0;34m\u001b[0m\u001b[0;34m\u001b[0m\u001b[0m\n",
      "\u001b[0;32m<ipython-input-212-b1a7666f4034>\u001b[0m in \u001b[0;36mprocess\u001b[0;34m(b, tally)\u001b[0m\n\u001b[1;32m     17\u001b[0m     \u001b[0;32melse\u001b[0m\u001b[0;34m:\u001b[0m\u001b[0;34m\u001b[0m\u001b[0;34m\u001b[0m\u001b[0m\n\u001b[1;32m     18\u001b[0m         \u001b[0;31m#then this is an operator\u001b[0m\u001b[0;34m\u001b[0m\u001b[0;34m\u001b[0m\u001b[0;34m\u001b[0m\u001b[0m\n\u001b[0;32m---> 19\u001b[0;31m         \u001b[0mlength_type_id\u001b[0m \u001b[0;34m=\u001b[0m \u001b[0mint\u001b[0m\u001b[0;34m(\u001b[0m\u001b[0mb\u001b[0m\u001b[0;34m[\u001b[0m\u001b[0;36m6\u001b[0m\u001b[0;34m]\u001b[0m\u001b[0;34m)\u001b[0m\u001b[0;34m\u001b[0m\u001b[0;34m\u001b[0m\u001b[0m\n\u001b[0m\u001b[1;32m     20\u001b[0m         \u001b[0;31m#print(length_type_id)\u001b[0m\u001b[0;34m\u001b[0m\u001b[0;34m\u001b[0m\u001b[0;34m\u001b[0m\u001b[0m\n\u001b[1;32m     21\u001b[0m         \u001b[0;32mif\u001b[0m \u001b[0mlength_type_id\u001b[0m\u001b[0;34m==\u001b[0m\u001b[0;36m0\u001b[0m\u001b[0;34m:\u001b[0m\u001b[0;34m\u001b[0m\u001b[0;34m\u001b[0m\u001b[0m\n",
      "\u001b[0;31mIndexError\u001b[0m: string index out of range"
     ]
    }
   ],
   "source": [
    "for k,v in tests.items():\n",
    "    mybs = to_binary_string(k)\n",
    "    p = process(mybs,0)\n",
    "    if v==p:\n",
    "        print('pass')\n",
    "    else:\n",
    "        print('failed for:',k,v,p)"
   ]
  },
  {
   "cell_type": "code",
   "execution_count": 82,
   "id": "239736d4",
   "metadata": {},
   "outputs": [
    {
     "data": {
      "text/plain": [
       "'01100010000000001000000000000000000101100001000101010110001011001000100000000010000100011000111000110100'"
      ]
     },
     "execution_count": 82,
     "metadata": {},
     "output_type": "execute_result"
    }
   ],
   "source": [
    "to_binary_string('620080001611562C8802118E34')"
   ]
  },
  {
   "cell_type": "code",
   "execution_count": 53,
   "id": "722e6e41",
   "metadata": {},
   "outputs": [
    {
     "data": {
      "text/plain": [
       "''"
      ]
     },
     "execution_count": 53,
     "metadata": {},
     "output_type": "execute_result"
    }
   ],
   "source": [
    "8A004A801A8002F478 represents an operator packet (version 4) which contains an \n",
    "operator packet (version 1) which contains an operator packet (version 5)\n",
    "which contains a literal value (version 6); this packet has a version sum of 16."
   ]
  },
  {
   "cell_type": "code",
   "execution_count": null,
   "id": "8a836fbf",
   "metadata": {},
   "outputs": [],
   "source": [
    "11010001010"
   ]
  },
  {
   "cell_type": "code",
   "execution_count": 46,
   "id": "76392bc9",
   "metadata": {},
   "outputs": [
    {
     "data": {
      "text/plain": [
       "(6, 4, 10)"
      ]
     },
     "execution_count": 46,
     "metadata": {},
     "output_type": "execute_result"
    }
   ],
   "source": [
    "len('AAAAAAAAAAABBBBBBBBBBBBBBBB')\n",
    "\n",
    "literal_packet('11010001010')\n",
    "#literal_packet('0101001000100100')"
   ]
  },
  {
   "cell_type": "code",
   "execution_count": null,
   "id": "42d3d790",
   "metadata": {},
   "outputs": [],
   "source": [
    "00111000000000000110111101000101001010010001001000000000\n",
    "VVVTTTILLLLLLLLLLLLLLLAAAAAAAAAAABBBBBBBBBBBBBBBB"
   ]
  },
  {
   "cell_type": "code",
   "execution_count": 71,
   "id": "29af22ed",
   "metadata": {},
   "outputs": [
    {
     "data": {
      "text/plain": [
       "27"
      ]
     },
     "execution_count": 71,
     "metadata": {},
     "output_type": "execute_result"
    }
   ],
   "source": [
    "len('AAAAAAAAAAABBBBBBBBBBBBBBBB')"
   ]
  },
  {
   "cell_type": "code",
   "execution_count": 72,
   "id": "565b4f6b",
   "metadata": {},
   "outputs": [
    {
     "data": {
      "text/plain": [
       "11"
      ]
     },
     "execution_count": 72,
     "metadata": {},
     "output_type": "execute_result"
    }
   ],
   "source": [
    "len('AAAAAAAAAAA')"
   ]
  },
  {
   "cell_type": "code",
   "execution_count": null,
   "id": "7e6fd5b1",
   "metadata": {},
   "outputs": [],
   "source": [
    "If the length type ID is 0, then the next 15 bits are a number that represents the total length in bits of the sub-packets contained by this packet.\n",
    "If the length type ID is 1, then the next 11 bits are a number that represents the number of sub-packets immediately contained by this packet.\n"
   ]
  },
  {
   "cell_type": "code",
   "execution_count": 31,
   "id": "82602953",
   "metadata": {},
   "outputs": [
    {
     "data": {
      "text/plain": [
       "15"
      ]
     },
     "execution_count": 31,
     "metadata": {},
     "output_type": "execute_result"
    }
   ],
   "source": [
    "nextbits"
   ]
  },
  {
   "cell_type": "code",
   "execution_count": 32,
   "id": "04664f5c",
   "metadata": {},
   "outputs": [
    {
     "data": {
      "text/plain": [
       "'000000000001101'"
      ]
     },
     "execution_count": 32,
     "metadata": {},
     "output_type": "execute_result"
    }
   ],
   "source": [
    "b[6:6+nextbits]"
   ]
  },
  {
   "cell_type": "code",
   "execution_count": null,
   "id": "6044facf",
   "metadata": {},
   "outputs": [],
   "source": []
  }
 ],
 "metadata": {
  "kernelspec": {
   "display_name": "Python 3",
   "language": "python",
   "name": "python3"
  },
  "language_info": {
   "codemirror_mode": {
    "name": "ipython",
    "version": 3
   },
   "file_extension": ".py",
   "mimetype": "text/x-python",
   "name": "python",
   "nbconvert_exporter": "python",
   "pygments_lexer": "ipython3",
   "version": "3.8.8"
  }
 },
 "nbformat": 4,
 "nbformat_minor": 5
}
