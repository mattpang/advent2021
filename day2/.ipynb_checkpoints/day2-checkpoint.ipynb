{
 "cells": [
  {
   "cell_type": "code",
   "execution_count": 23,
   "id": "638d02a5",
   "metadata": {},
   "outputs": [],
   "source": [
    "f = open('./input.txt','r')\n",
    "commands = f.read().split('\\n')[:-1]\n",
    "f.close()"
   ]
  },
  {
   "cell_type": "code",
   "execution_count": 22,
   "id": "428d43cd",
   "metadata": {},
   "outputs": [],
   "source": [
    "\n",
    "\n",
    "commands = '''forward 5\n",
    "down 5\n",
    "forward 8\n",
    "up 3\n",
    "down 8\n",
    "forward 2'''.split('\\n')"
   ]
  },
  {
   "cell_type": "code",
   "execution_count": null,
   "id": "1d4787ae",
   "metadata": {},
   "outputs": [],
   "source": [
    "aim \n",
    "\n",
    "down X increases your aim by X units.\n",
    "up X decreases your aim by X units.\n",
    "forward X does two things:\n",
    "It increases your horizontal position by X units.\n",
    "It increases your depth by your aim multiplied by X.\n",
    "\n"
   ]
  },
  {
   "cell_type": "code",
   "execution_count": 24,
   "id": "fe04b5a0",
   "metadata": {},
   "outputs": [
    {
     "name": "stdout",
     "output_type": "stream",
     "text": [
      "2052 1010437 2073416724\n"
     ]
    }
   ],
   "source": [
    "x=0\n",
    "y=0\n",
    "aim=0\n",
    "for c in commands:\n",
    "    amt = int(c.split(' ')[-1])\n",
    "    if 'forward' in c:\n",
    "        x+=amt\n",
    "        y+=aim*amt\n",
    "    elif 'down' in c:\n",
    "        #y+=amt\n",
    "        aim+=amt\n",
    "    elif 'up' in c:\n",
    "        #y-=amt\n",
    "        aim-=amt\n",
    "    else:\n",
    "        print(c)\n",
    "        \n",
    "print(x,y,x*y)"
   ]
  },
  {
   "cell_type": "code",
   "execution_count": null,
   "id": "cb9ef6f7",
   "metadata": {},
   "outputs": [],
   "source": []
  },
  {
   "cell_type": "code",
   "execution_count": null,
   "id": "c7b267f9",
   "metadata": {},
   "outputs": [],
   "source": []
  }
 ],
 "metadata": {
  "kernelspec": {
   "display_name": "Python 3",
   "language": "python",
   "name": "python3"
  },
  "language_info": {
   "codemirror_mode": {
    "name": "ipython",
    "version": 3
   },
   "file_extension": ".py",
   "mimetype": "text/x-python",
   "name": "python",
   "nbconvert_exporter": "python",
   "pygments_lexer": "ipython3",
   "version": "3.8.8"
  }
 },
 "nbformat": 4,
 "nbformat_minor": 5
}
